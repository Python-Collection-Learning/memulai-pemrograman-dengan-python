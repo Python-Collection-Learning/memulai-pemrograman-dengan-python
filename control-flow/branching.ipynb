{
 "cells": [
  {
   "cell_type": "code",
   "execution_count": 2,
   "metadata": {},
   "outputs": [
    {
     "name": "stdout",
     "output_type": "stream",
     "text": [
      "Ibu membeli dan memasak tempe\n"
     ]
    }
   ],
   "source": [
    "# if else statement\n",
    "ketersediaan = \"Daging ayam\"\n",
    "\n",
    "if ketersediaan == \"Daging tempe\":\n",
    "    print(\"Ibu membeli dan memasak ayam\")\n",
    "else:\n",
    "    print(\"Ibu membeli dan memasak tempe\")"
   ]
  },
  {
   "cell_type": "code",
   "execution_count": 3,
   "metadata": {},
   "outputs": [
    {
     "name": "stdout",
     "output_type": "stream",
     "text": [
      "Nilai Anda sempurna!\n"
     ]
    }
   ],
   "source": [
    "score = 100\n",
    "\n",
    "if score == 100:\n",
    "    print(\"Nilai Anda sempurna!\")"
   ]
  },
  {
   "cell_type": "code",
   "execution_count": 1,
   "metadata": {},
   "outputs": [],
   "source": [
    "x = \"\"\n",
    "\n",
    "if x:\n",
    "    print(\"Ini True\")"
   ]
  },
  {
   "cell_type": "code",
   "execution_count": 3,
   "metadata": {},
   "outputs": [
    {
     "name": "stdout",
     "output_type": "stream",
     "text": [
      "Nilai Anda sempurna!\n"
     ]
    }
   ],
   "source": [
    "score = 100\n",
    "\n",
    "if score == 100: print(\"Nilai Anda sempurna!\")"
   ]
  },
  {
   "cell_type": "code",
   "execution_count": 5,
   "metadata": {},
   "outputs": [
    {
     "name": "stdout",
     "output_type": "stream",
     "text": [
      "Anda tidak diperbolehkan menaiki roller coaster\n"
     ]
    }
   ],
   "source": [
    "tinggi_badan = 120\n",
    "\n",
    "if tinggi_badan >=160:\n",
    "    print(\"Anda boleh menaiki roller coaster\")\n",
    "else:\n",
    "    print(\"Anda tidak diperbolehkan menaiki roller coaster\")"
   ]
  },
  {
   "cell_type": "code",
   "execution_count": 7,
   "metadata": {},
   "outputs": [
    {
     "name": "stdout",
     "output_type": "stream",
     "text": [
      "Hmm.. Anda mendapat nilai C\n",
      "Ayo semangat!\n"
     ]
    }
   ],
   "source": [
    "# elif statement\n",
    "nilai = 65\n",
    "\n",
    "if nilai>=80:\n",
    "   print(\"Selamat! Anda mendapat nilai A\")\n",
    "   print(\"Pertahankan!\")\n",
    "elif nilai>=70:\n",
    "   print(\"Hore! Anda mendapat nilai B\")\n",
    "   print(\"Tingkatkan!\")\n",
    "elif nilai>=60:\n",
    "   print(\"Hmm.. Anda mendapat nilai C\")\n",
    "   print(\"Ayo semangat!\")\n",
    "else:\n",
    "   print(\"Waduh, Anda mendapat nilai D\")\n",
    "   print(\"Yuk belajar lebih giat lagi!\")"
   ]
  },
  {
   "cell_type": "code",
   "execution_count": 9,
   "metadata": {},
   "outputs": [
    {
     "name": "stdout",
     "output_type": "stream",
     "text": [
      "Kamu mendapatkan nilai A, tetapi perilaku Anda kurang baik\n",
      "Perbaiki lagi ya!\n"
     ]
    }
   ],
   "source": [
    "nilai = 81\n",
    "perilaku = 'tidak baik'\n",
    "\n",
    "if nilai>=80 and perilaku == 'baik':\n",
    "   print(\"Selamat! Anda mendapat nilai A dan telah berkelakuan baik\")\n",
    "   print(\"Pertahankan!\")\n",
    "elif nilai>=80 and perilaku != 'baik':\n",
    "   print(\"Kamu mendapatkan nilai A, tetapi perilaku Anda kurang baik\")\n",
    "   print(\"Perbaiki lagi ya!\")\n",
    "else:\n",
    "   print(\"Yuk belajar lebih giat lagi!\")"
   ]
  },
  {
   "cell_type": "code",
   "execution_count": 13,
   "metadata": {},
   "outputs": [
    {
     "name": "stdout",
     "output_type": "stream",
     "text": [
      "Selamat\n",
      "selamat\n"
     ]
    }
   ],
   "source": [
    "# if else not using ternary operator\n",
    "lulus = True\n",
    "if lulus:\n",
    "    print(\"Selamat\") \n",
    "else:\n",
    "    print(\"Perbaiki\")\n",
    "\n",
    "# if else using ternary operator\n",
    "lulus = True\n",
    "print(\"selamat\") if lulus else print(\"perbaiki\")"
   ]
  },
  {
   "cell_type": "code",
   "execution_count": 17,
   "metadata": {},
   "outputs": [
    {
     "name": "stdout",
     "output_type": "stream",
     "text": [
      "Selamat, Anda lulus!\n",
      "Selamat, Anda lulus!\n"
     ]
    }
   ],
   "source": [
    "# if else using ternary operator and tuple\n",
    "lulus = True\n",
    "kelulusan = (\"Perbaiki, Anda belum lulus.\",\"Selamat, Anda lulus!\")[lulus]\n",
    "print(kelulusan)\n",
    "\n",
    "# it's look like this\n",
    "lulus = True\n",
    "if lulus:\n",
    "    print(\"Selamat, Anda lulus!\") \n",
    "else:\n",
    "    print(\"Perbaiki, Anda belum lulus.\")"
   ]
  }
 ],
 "metadata": {
  "kernelspec": {
   "display_name": "Python 3",
   "language": "python",
   "name": "python3"
  },
  "language_info": {
   "codemirror_mode": {
    "name": "ipython",
    "version": 3
   },
   "file_extension": ".py",
   "mimetype": "text/x-python",
   "name": "python",
   "nbconvert_exporter": "python",
   "pygments_lexer": "ipython3",
   "version": "3.11.2"
  },
  "orig_nbformat": 4
 },
 "nbformat": 4,
 "nbformat_minor": 2
}
