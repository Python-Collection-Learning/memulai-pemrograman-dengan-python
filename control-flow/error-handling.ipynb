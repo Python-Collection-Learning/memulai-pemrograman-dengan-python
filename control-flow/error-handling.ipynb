{
 "cells": [
  {
   "cell_type": "code",
   "execution_count": 1,
   "metadata": {},
   "outputs": [
    {
     "ename": "IndentationError",
     "evalue": "expected an indented block after 'if' statement on line 1 (1822476761.py, line 2)",
     "output_type": "error",
     "traceback": [
      "\u001b[1;36m  Cell \u001b[1;32mIn[1], line 2\u001b[1;36m\u001b[0m\n\u001b[1;33m    print(\"Hello World!\")\u001b[0m\n\u001b[1;37m    ^\u001b[0m\n\u001b[1;31mIndentationError\u001b[0m\u001b[1;31m:\u001b[0m expected an indented block after 'if' statement on line 1\n"
     ]
    }
   ],
   "source": [
    "# this is IndentationError\n",
    "if 9>10:\n",
    "print(\"Hello World!\")"
   ]
  },
  {
   "cell_type": "code",
   "execution_count": 13,
   "metadata": {},
   "outputs": [
    {
     "ename": "SyntaxError",
     "evalue": "expected ':' (3521565269.py, line 3)",
     "output_type": "error",
     "traceback": [
      "\u001b[1;36m  Cell \u001b[1;32mIn[13], line 3\u001b[1;36m\u001b[0m\n\u001b[1;33m    while i<3\u001b[0m\n\u001b[1;37m             ^\u001b[0m\n\u001b[1;31mSyntaxError\u001b[0m\u001b[1;31m:\u001b[0m expected ':'\n"
     ]
    }
   ],
   "source": [
    "# this is SyntaxErrors\n",
    "i = 1\n",
    "while i<3\n",
    "    print(\"Nics Projects\")\n",
    "    i+=1"
   ]
  },
  {
   "cell_type": "code",
   "execution_count": 4,
   "metadata": {},
   "outputs": [
    {
     "ename": "NameError",
     "evalue": "name 'angka' is not defined",
     "output_type": "error",
     "traceback": [
      "\u001b[1;31m---------------------------------------------------------------------------\u001b[0m",
      "\u001b[1;31mNameError\u001b[0m                                 Traceback (most recent call last)",
      "\u001b[1;32me:\\Learning\\Machine Learning\\Python\\2021\\Dicoding - Memulai Pemrograman Dengan Python\\control-flow\\error-handling.ipynb Cell 3\u001b[0m line \u001b[0;36m2\n\u001b[0;32m      <a href='vscode-notebook-cell:/e%3A/Learning/Machine%20Learning/Python/2021/Dicoding%20-%20Memulai%20Pemrograman%20Dengan%20Python/control-flow/error-handling.ipynb#W2sZmlsZQ%3D%3D?line=0'>1</a>\u001b[0m \u001b[39m# this is Exceptions\u001b[39;00m\n\u001b[1;32m----> <a href='vscode-notebook-cell:/e%3A/Learning/Machine%20Learning/Python/2021/Dicoding%20-%20Memulai%20Pemrograman%20Dengan%20Python/control-flow/error-handling.ipynb#W2sZmlsZQ%3D%3D?line=1'>2</a>\u001b[0m \u001b[39mprint\u001b[39m(angka)\n",
      "\u001b[1;31mNameError\u001b[0m: name 'angka' is not defined"
     ]
    }
   ],
   "source": [
    "# this is Exceptions\n",
    "print(angka)"
   ]
  },
  {
   "cell_type": "code",
   "execution_count": 6,
   "metadata": {},
   "outputs": [
    {
     "ename": "TypeError",
     "evalue": "can only concatenate str (not \"int\") to str",
     "output_type": "error",
     "traceback": [
      "\u001b[1;31m---------------------------------------------------------------------------\u001b[0m",
      "\u001b[1;31mTypeError\u001b[0m                                 Traceback (most recent call last)",
      "\u001b[1;32me:\\Learning\\Machine Learning\\Python\\2021\\Dicoding - Memulai Pemrograman Dengan Python\\control-flow\\error-handling.ipynb Cell 4\u001b[0m line \u001b[0;36m3\n\u001b[0;32m      <a href='vscode-notebook-cell:/e%3A/Learning/Machine%20Learning/Python/2021/Dicoding%20-%20Memulai%20Pemrograman%20Dengan%20Python/control-flow/error-handling.ipynb#W3sZmlsZQ%3D%3D?line=0'>1</a>\u001b[0m \u001b[39m# this is Exceptions too\u001b[39;00m\n\u001b[0;32m      <a href='vscode-notebook-cell:/e%3A/Learning/Machine%20Learning/Python/2021/Dicoding%20-%20Memulai%20Pemrograman%20Dengan%20Python/control-flow/error-handling.ipynb#W3sZmlsZQ%3D%3D?line=1'>2</a>\u001b[0m bukan_angka \u001b[39m=\u001b[39m \u001b[39m'\u001b[39m\u001b[39m1\u001b[39m\u001b[39m'\u001b[39m\n\u001b[1;32m----> <a href='vscode-notebook-cell:/e%3A/Learning/Machine%20Learning/Python/2021/Dicoding%20-%20Memulai%20Pemrograman%20Dengan%20Python/control-flow/error-handling.ipynb#W3sZmlsZQ%3D%3D?line=2'>3</a>\u001b[0m bukan_angka \u001b[39m+\u001b[39;49m \u001b[39m2\u001b[39;49m\n",
      "\u001b[1;31mTypeError\u001b[0m: can only concatenate str (not \"int\") to str"
     ]
    }
   ],
   "source": [
    "# this is Exceptions too\n",
    "bukan_angka = '1'\n",
    "bukan_angka + 2"
   ]
  },
  {
   "cell_type": "code",
   "execution_count": 8,
   "metadata": {},
   "outputs": [
    {
     "ename": "ZeroDivisionError",
     "evalue": "division by zero",
     "output_type": "error",
     "traceback": [
      "\u001b[1;31m---------------------------------------------------------------------------\u001b[0m",
      "\u001b[1;31mZeroDivisionError\u001b[0m                         Traceback (most recent call last)",
      "\u001b[1;32me:\\Learning\\Machine Learning\\Python\\2021\\Dicoding - Memulai Pemrograman Dengan Python\\control-flow\\error-handling.ipynb Cell 5\u001b[0m line \u001b[0;36m3\n\u001b[0;32m      <a href='vscode-notebook-cell:/e%3A/Learning/Machine%20Learning/Python/2021/Dicoding%20-%20Memulai%20Pemrograman%20Dengan%20Python/control-flow/error-handling.ipynb#W4sZmlsZQ%3D%3D?line=0'>1</a>\u001b[0m \u001b[39m# this is another Exceptions too\u001b[39;00m\n\u001b[0;32m      <a href='vscode-notebook-cell:/e%3A/Learning/Machine%20Learning/Python/2021/Dicoding%20-%20Memulai%20Pemrograman%20Dengan%20Python/control-flow/error-handling.ipynb#W4sZmlsZQ%3D%3D?line=1'>2</a>\u001b[0m z \u001b[39m=\u001b[39m \u001b[39m0\u001b[39m\n\u001b[1;32m----> <a href='vscode-notebook-cell:/e%3A/Learning/Machine%20Learning/Python/2021/Dicoding%20-%20Memulai%20Pemrograman%20Dengan%20Python/control-flow/error-handling.ipynb#W4sZmlsZQ%3D%3D?line=2'>3</a>\u001b[0m \u001b[39mprint\u001b[39m(\u001b[39m1\u001b[39;49m\u001b[39m/\u001b[39;49mz)\n",
      "\u001b[1;31mZeroDivisionError\u001b[0m: division by zero"
     ]
    }
   ],
   "source": [
    "# this is another Exceptions too\n",
    "z = 0\n",
    "print(1/z)"
   ]
  },
  {
   "cell_type": "code",
   "execution_count": 10,
   "metadata": {},
   "outputs": [
    {
     "name": "stdout",
     "output_type": "stream",
     "text": [
      "Anda tidak bisa membagi angka dengan nilai nol.\n"
     ]
    }
   ],
   "source": [
    "# this is simple try-except\n",
    "z=0\n",
    "try:\n",
    "    print(1/z)\n",
    "except ZeroDivisionError:\n",
    "    print(\"Anda tidak bisa membagi angka dengan nilai nol.\")"
   ]
  },
  {
   "cell_type": "code",
   "execution_count": 11,
   "metadata": {},
   "outputs": [
    {
     "name": "stdout",
     "output_type": "stream",
     "text": [
      "rata-rata adalah 1.0\n",
      "Kode ini dieksekusi jika tidak ada exception.\n",
      "Kode ini dieksekusi terlepas dari ada atau tidaknya exception.\n"
     ]
    }
   ],
   "source": [
    "# this is complete try-except\n",
    "var_dict = {\"rata_rata\": \"1.0\"}\n",
    "\n",
    "try:\n",
    "    print(f\"rata-rata adalah {var_dict['rata_rata']}\")\n",
    "except KeyError:\n",
    "    print(\"Key tidak ditemukan.\")\n",
    "except TypeError:\n",
    "    print(\"Anda tidak bisa membagi nilai dengan tipe data string\")\n",
    "else:\n",
    "    print(\"Kode ini dieksekusi jika tidak ada exception.\")\n",
    "finally:\n",
    "    print(\"Kode ini dieksekusi terlepas dari ada atau tidaknya exception.\")"
   ]
  },
  {
   "cell_type": "code",
   "execution_count": 14,
   "metadata": {},
   "outputs": [
    {
     "ename": "ValueError",
     "evalue": "Bilangan negatif tidak diperbolehkan",
     "output_type": "error",
     "traceback": [
      "\u001b[1;31m---------------------------------------------------------------------------\u001b[0m",
      "\u001b[1;31mValueError\u001b[0m                                Traceback (most recent call last)",
      "\u001b[1;32me:\\Learning\\Machine Learning\\Python\\2021\\Dicoding - Memulai Pemrograman Dengan Python\\control-flow\\error-handling.ipynb Cell 8\u001b[0m line \u001b[0;36m4\n\u001b[0;32m      <a href='vscode-notebook-cell:/e%3A/Learning/Machine%20Learning/Python/2021/Dicoding%20-%20Memulai%20Pemrograman%20Dengan%20Python/control-flow/error-handling.ipynb#X10sZmlsZQ%3D%3D?line=1'>2</a>\u001b[0m var \u001b[39m=\u001b[39m \u001b[39m-\u001b[39m\u001b[39m1\u001b[39m\n\u001b[0;32m      <a href='vscode-notebook-cell:/e%3A/Learning/Machine%20Learning/Python/2021/Dicoding%20-%20Memulai%20Pemrograman%20Dengan%20Python/control-flow/error-handling.ipynb#X10sZmlsZQ%3D%3D?line=2'>3</a>\u001b[0m \u001b[39mif\u001b[39;00m var \u001b[39m<\u001b[39m \u001b[39m0\u001b[39m:\n\u001b[1;32m----> <a href='vscode-notebook-cell:/e%3A/Learning/Machine%20Learning/Python/2021/Dicoding%20-%20Memulai%20Pemrograman%20Dengan%20Python/control-flow/error-handling.ipynb#X10sZmlsZQ%3D%3D?line=3'>4</a>\u001b[0m     \u001b[39mraise\u001b[39;00m \u001b[39mValueError\u001b[39;00m(\u001b[39m\"\u001b[39m\u001b[39mBilangan negatif tidak diperbolehkan\u001b[39m\u001b[39m\"\u001b[39m)\n\u001b[0;32m      <a href='vscode-notebook-cell:/e%3A/Learning/Machine%20Learning/Python/2021/Dicoding%20-%20Memulai%20Pemrograman%20Dengan%20Python/control-flow/error-handling.ipynb#X10sZmlsZQ%3D%3D?line=4'>5</a>\u001b[0m \u001b[39melse\u001b[39;00m:\n\u001b[0;32m      <a href='vscode-notebook-cell:/e%3A/Learning/Machine%20Learning/Python/2021/Dicoding%20-%20Memulai%20Pemrograman%20Dengan%20Python/control-flow/error-handling.ipynb#X10sZmlsZQ%3D%3D?line=5'>6</a>\u001b[0m     \u001b[39mfor\u001b[39;00m i \u001b[39min\u001b[39;00m \u001b[39mrange\u001b[39m(var):\n",
      "\u001b[1;31mValueError\u001b[0m: Bilangan negatif tidak diperbolehkan"
     ]
    }
   ],
   "source": [
    "# this is raise exception\n",
    "var = -1\n",
    "if var < 0:\n",
    "    raise ValueError(\"Bilangan negatif tidak diperbolehkan\")\n",
    "else:\n",
    "    for i in range(var):\n",
    "        print(i+1)"
   ]
  }
 ],
 "metadata": {
  "kernelspec": {
   "display_name": "Python 3",
   "language": "python",
   "name": "python3"
  },
  "language_info": {
   "codemirror_mode": {
    "name": "ipython",
    "version": 3
   },
   "file_extension": ".py",
   "mimetype": "text/x-python",
   "name": "python",
   "nbconvert_exporter": "python",
   "pygments_lexer": "ipython3",
   "version": "3.11.2"
  },
  "orig_nbformat": 4
 },
 "nbformat": 4,
 "nbformat_minor": 2
}
