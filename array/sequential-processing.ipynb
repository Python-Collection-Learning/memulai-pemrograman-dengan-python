{
 "cells": [
  {
   "cell_type": "code",
   "execution_count": 1,
   "metadata": {},
   "outputs": [
    {
     "name": "stdout",
     "output_type": "stream",
     "text": [
      "Current element: 1, next elements: 2\n",
      "Current element: 2, next elements: 3\n",
      "Current element: 3, next elements: 4\n",
      "Current element: 4, next elements: 5\n",
      "Current element: 5, next elements: None\n"
     ]
    }
   ],
   "source": [
    "var_arr = [1, 2, 3, 4, 5]\n",
    "\n",
    "for i in range(len(var_arr)):\n",
    "    current_element = var_arr[i]\n",
    "    next_index = i+1\n",
    "    \n",
    "    if next_index < len(var_arr):\n",
    "        next_element = var_arr[next_index]\n",
    "    else:\n",
    "        next_element = None\n",
    "        \n",
    "    print(f\"Current element: {current_element}, next elements: {next_element}\")"
   ]
  }
 ],
 "metadata": {
  "kernelspec": {
   "display_name": "Python 3",
   "language": "python",
   "name": "python3"
  },
  "language_info": {
   "codemirror_mode": {
    "name": "ipython",
    "version": 3
   },
   "file_extension": ".py",
   "mimetype": "text/x-python",
   "name": "python",
   "nbconvert_exporter": "python",
   "pygments_lexer": "ipython3",
   "version": "3.11.2"
  },
  "orig_nbformat": 4
 },
 "nbformat": 4,
 "nbformat_minor": 2
}
