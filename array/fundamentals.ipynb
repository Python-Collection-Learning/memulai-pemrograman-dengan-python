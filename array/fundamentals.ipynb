{
 "cells": [
  {
   "cell_type": "code",
   "execution_count": 2,
   "metadata": {},
   "outputs": [
    {
     "name": "stdout",
     "output_type": "stream",
     "text": [
      "[1, 2, 3, 4, 5]\n"
     ]
    }
   ],
   "source": [
    "# simple array\n",
    "x = [1, 2, 3, 4, 5]\n",
    "print(x)"
   ]
  },
  {
   "cell_type": "code",
   "execution_count": 4,
   "metadata": {},
   "outputs": [
    {
     "name": "stdout",
     "output_type": "stream",
     "text": [
      "array('i', [1, 2, 3, 4, 5])\n",
      "<class 'array.array'>\n"
     ]
    }
   ],
   "source": [
    "# library array\n",
    "import array\n",
    "\n",
    "x = array.array(\"i\",[1, 2, 3, 4, 5])\n",
    "print(x)\n",
    "print(type(x))"
   ]
  },
  {
   "cell_type": "code",
   "execution_count": 7,
   "metadata": {},
   "outputs": [
    {
     "name": "stdout",
     "output_type": "stream",
     "text": [
      "140707429282600\n",
      "140707429282632\n",
      "140707429282664\n"
     ]
    }
   ],
   "source": [
    "# did you know, that each array element will be placed in one memory\n",
    "var_list = [1,2,3]\n",
    "for elemen in var_list:\n",
    "    print(id(elemen))"
   ]
  },
  {
   "cell_type": "code",
   "execution_count": 9,
   "metadata": {},
   "outputs": [
    {
     "name": "stdout",
     "output_type": "stream",
     "text": [
      "[0, 0, 0, 0, 0, 0, 0, 0, 0, 0]\n"
     ]
    }
   ],
   "source": [
    "# initialize default value\n",
    "var_arr = [0 for i in range(10)]\n",
    "print(var_arr)"
   ]
  },
  {
   "cell_type": "code",
   "execution_count": 15,
   "metadata": {},
   "outputs": [
    {
     "name": "stdout",
     "output_type": "stream",
     "text": [
      "[0, 1, 2, 3, 4, 5, 6, 7, 8, 9]\n"
     ]
    }
   ],
   "source": [
    "# you can change default value with this\n",
    "var_arr = [0 for i in range(10)]\n",
    "\n",
    "for i in range(10):\n",
    "    var_arr[i] = i\n",
    "\n",
    "print(var_arr)"
   ]
  },
  {
   "cell_type": "code",
   "execution_count": 14,
   "metadata": {},
   "outputs": [
    {
     "name": "stdout",
     "output_type": "stream",
     "text": [
      "9\n",
      "\n",
      "\n",
      "[90, 100, 50, 80, 85, 45, 80, 75, 50, 60]\n",
      "90\n"
     ]
    }
   ],
   "source": [
    "# how access element array\n",
    "var_arr = [9, 8, 7, 6, 5, 4, 3, 2, 1, 0]\n",
    "print(var_arr[0])\n",
    "\n",
    "print(\"\\n\")\n",
    "\n",
    "siswa = [90, 100, 50, 80, 85, 45, 80, 75, 50, 60]\n",
    "print(siswa)\n",
    "print(siswa[0])"
   ]
  }
 ],
 "metadata": {
  "kernelspec": {
   "display_name": "Python 3",
   "language": "python",
   "name": "python3"
  },
  "language_info": {
   "codemirror_mode": {
    "name": "ipython",
    "version": 3
   },
   "file_extension": ".py",
   "mimetype": "text/x-python",
   "name": "python",
   "nbconvert_exporter": "python",
   "pygments_lexer": "ipython3",
   "version": "3.11.2"
  },
  "orig_nbformat": 4
 },
 "nbformat": 4,
 "nbformat_minor": 2
}
