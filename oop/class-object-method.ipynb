{
 "cells": [
  {
   "cell_type": "code",
   "execution_count": 1,
   "metadata": {},
   "outputs": [
    {
     "name": "stdout",
     "output_type": "stream",
     "text": [
      "Merah\n"
     ]
    }
   ],
   "source": [
    "# this is simple class\n",
    "class Mobil:\n",
    "    # Atribut\n",
    "    warna = \"Merah\"\n",
    "\n",
    "mobil_1 = Mobil()\n",
    "print(mobil_1.warna)"
   ]
  },
  {
   "cell_type": "code",
   "execution_count": 3,
   "metadata": {},
   "outputs": [
    {
     "name": "stdout",
     "output_type": "stream",
     "text": [
      "Biru\n"
     ]
    }
   ],
   "source": [
    "# you can change attribute value\n",
    "class Mobil:\n",
    "    # Atribut\n",
    "    warna = 'Merah'\n",
    "\n",
    "mobil_1 = Mobil()\n",
    "mobil_1.warna = \"Biru\"\n",
    "print(mobil_1.warna)"
   ]
  },
  {
   "cell_type": "code",
   "execution_count": 5,
   "metadata": {},
   "outputs": [
    {
     "name": "stdout",
     "output_type": "stream",
     "text": [
      "Merah\n",
      "Merah\n",
      "Hitam\n",
      "Hitam\n"
     ]
    }
   ],
   "source": [
    "# class attribute and object attribute\n",
    "class Mobil:\n",
    "    # Atribut kelas\n",
    "    warna = \"Merah\"\n",
    "\n",
    "mobil1 = Mobil()\n",
    "print(mobil1.warna)\n",
    "\n",
    "mobil2 = Mobil()\n",
    "print(mobil2.warna)\n",
    "\n",
    "# Mengubah atribut kelas\n",
    "Mobil.warna = \"Hitam\"\n",
    "\n",
    "print(mobil1.warna)\n",
    "print(mobil2.warna)"
   ]
  },
  {
   "cell_type": "code",
   "execution_count": 6,
   "metadata": {},
   "outputs": [
    {
     "name": "stdout",
     "output_type": "stream",
     "text": [
      "Merah\n",
      "Merah\n",
      "Hitam\n",
      "Merah\n"
     ]
    }
   ],
   "source": [
    "# class constructor\n",
    "class Mobil:\n",
    "    # Atribut Instance\n",
    "    def __init__(self):\n",
    "        self.warna = 'Merah'\n",
    "        \n",
    "mobil_1 = Mobil()\n",
    "mobil_2 = Mobil()\n",
    "\n",
    "print(mobil_1.warna)\n",
    "print(mobil_2.warna)\n",
    "\n",
    "# Mengubah atribut instance\n",
    "mobil_1.warna = \"Hitam\"\n",
    "\n",
    "# Menampilkan kembali atribut warna\n",
    "print(mobil_1.warna)\n",
    "print(mobil_2.warna)"
   ]
  },
  {
   "cell_type": "code",
   "execution_count": 7,
   "metadata": {},
   "outputs": [
    {
     "name": "stdout",
     "output_type": "stream",
     "text": [
      "Merah\n",
      "NicsCar\n",
      "160\n"
     ]
    }
   ],
   "source": [
    "# another example of class constructor\n",
    "class Mobil:\n",
    "    def __init__(self, warna, merek, kecepatan):\n",
    "        self.warna = warna\n",
    "        self.merek = merek\n",
    "        self.kecepatan = kecepatan\n",
    "        \n",
    "mobil_1 = Mobil('Merah', 'NicsCar', 160)\n",
    "\n",
    "print(mobil_1.warna)\n",
    "print(mobil_1.merek)\n",
    "print(mobil_1.kecepatan)"
   ]
  },
  {
   "cell_type": "code",
   "execution_count": 8,
   "metadata": {},
   "outputs": [
    {
     "name": "stdout",
     "output_type": "stream",
     "text": [
      "Sebelum fungsi dieksekusi.\n",
      "Hello, world!\n",
      "Setelah fungsi dieksekusi.\n"
     ]
    }
   ],
   "source": [
    "# decorator\n",
    "def my_decorator(func):\n",
    "    def wrapper():\n",
    "        print(\"Sebelum fungsi dieksekusi.\")\n",
    "        func()\n",
    "        print(\"Setelah fungsi dieksekusi.\")\n",
    "    return wrapper\n",
    "\n",
    "# Dekorasi fungsi dengan decorator\n",
    "@my_decorator\n",
    "def say_hello():\n",
    "    print(\"Hello, world!\")\n",
    "\n",
    "# Memanggil fungsi yang sudah didekorasi\n",
    "say_hello()"
   ]
  },
  {
   "cell_type": "code",
   "execution_count": 9,
   "metadata": {},
   "outputs": [
    {
     "name": "stdout",
     "output_type": "stream",
     "text": [
      "Sebelum ditambahkan: \n",
      "160\n",
      "Setelah ditambahkan: \n",
      "170\n"
     ]
    }
   ],
   "source": [
    "# ocject method\n",
    "class Mobil:\n",
    "    def __init__(self, warna, merek, kecepatan):\n",
    "        self.warna = warna\n",
    "        self.merek = merek\n",
    "        self.kecepatan = kecepatan\n",
    "\n",
    "    def tambah_kecepatan(self):\n",
    "        self.kecepatan += 10\n",
    "\n",
    "mobil_1 = Mobil(\"Merah\", \"DicodingCar\", 160)\n",
    "print(\"Sebelum ditambahkan: \")\n",
    "print(mobil_1.kecepatan)\n",
    "\n",
    "mobil_1.tambah_kecepatan()        # Memanggil metode tambah_kecepatan.\n",
    "\n",
    "print(\"Setelah ditambahkan: \")\n",
    "print(mobil_1.kecepatan)"
   ]
  },
  {
   "cell_type": "code",
   "execution_count": 10,
   "metadata": {},
   "outputs": [
    {
     "ename": "TypeError",
     "evalue": "Mobil.tambah_kecepatan() missing 1 required positional argument: 'self'",
     "output_type": "error",
     "traceback": [
      "\u001b[1;31m---------------------------------------------------------------------------\u001b[0m",
      "\u001b[1;31mTypeError\u001b[0m                                 Traceback (most recent call last)",
      "\u001b[1;32me:\\Learning\\Machine Learning\\Python\\2021\\Dicoding - Memulai Pemrograman Dengan Python\\oop\\class-object-method.ipynb Cell 8\u001b[0m line \u001b[0;36m1\n\u001b[0;32m      <a href='vscode-notebook-cell:/e%3A/Learning/Machine%20Learning/Python/2021/Dicoding%20-%20Memulai%20Pemrograman%20Dengan%20Python/oop/class-object-method.ipynb#X10sZmlsZQ%3D%3D?line=8'>9</a>\u001b[0m     \u001b[39mdef\u001b[39;00m \u001b[39mtambah_kecepatan\u001b[39m(\u001b[39mself\u001b[39m):\n\u001b[0;32m     <a href='vscode-notebook-cell:/e%3A/Learning/Machine%20Learning/Python/2021/Dicoding%20-%20Memulai%20Pemrograman%20Dengan%20Python/oop/class-object-method.ipynb#X10sZmlsZQ%3D%3D?line=9'>10</a>\u001b[0m         \u001b[39mself\u001b[39m\u001b[39m.\u001b[39mkecepatan \u001b[39m+\u001b[39m\u001b[39m=\u001b[39m \u001b[39m10\u001b[39m\n\u001b[1;32m---> <a href='vscode-notebook-cell:/e%3A/Learning/Machine%20Learning/Python/2021/Dicoding%20-%20Memulai%20Pemrograman%20Dengan%20Python/oop/class-object-method.ipynb#X10sZmlsZQ%3D%3D?line=11'>12</a>\u001b[0m Mobil\u001b[39m.\u001b[39;49mtambah_kecepatan()\n",
      "\u001b[1;31mTypeError\u001b[0m: Mobil.tambah_kecepatan() missing 1 required positional argument: 'self'"
     ]
    }
   ],
   "source": [
    "# you can call object method directly, cause this method attached directly to object \n",
    "# and using self parameter. if you try it will be error\n",
    "class Mobil:\n",
    "    def __init__(self, warna, merek, kecepatan):\n",
    "        self.warna = warna\n",
    "        self.merek = merek\n",
    "        self.kecepatan = kecepatan\n",
    "    \n",
    "    def tambah_kecepatan(self):\n",
    "        self.kecepatan += 10\n",
    "        \n",
    "Mobil.tambah_kecepatan()"
   ]
  },
  {
   "cell_type": "code",
   "execution_count": 12,
   "metadata": {},
   "outputs": [
    {
     "name": "stdout",
     "output_type": "stream",
     "text": [
      "Ini adalah metode dari kelas Mobil\n",
      "Ini adalah metode dari kelas Mobil\n"
     ]
    }
   ],
   "source": [
    "# static method\n",
    "class Mobil:\n",
    "    def __init__(self, merek):\n",
    "        self.merek = merek\n",
    "    \n",
    "    @staticmethod\n",
    "    def intro_mobil():\n",
    "        print(\"Ini adalah metode dari kelas Mobil\")\n",
    "        \n",
    "Mobil.intro_mobil()\n",
    "mobil_1 = Mobil(\"NicsCar\")\n",
    "mobil_1.intro_mobil()"
   ]
  },
  {
   "cell_type": "code",
   "execution_count": 13,
   "metadata": {},
   "outputs": [
    {
     "name": "stdout",
     "output_type": "stream",
     "text": [
      "Ini adalah metode dari kelas Mobil\n",
      "Ini adalah metode dari kelas Mobil\n"
     ]
    }
   ],
   "source": [
    "# class method\n",
    "class Mobil:\n",
    "    def __init__(self, merek):\n",
    "        self.merek = merek\n",
    "\n",
    "    @classmethod\n",
    "    def intro_mobil(cls):\n",
    "        print(\"Ini adalah metode dari kelas Mobil\")\n",
    "        \n",
    "Mobil.intro_mobil()\n",
    "mobil_1 = Mobil(\"NicsCar\")\n",
    "mobil_1.intro_mobil()"
   ]
  }
 ],
 "metadata": {
  "kernelspec": {
   "display_name": "Python 3",
   "language": "python",
   "name": "python3"
  },
  "language_info": {
   "codemirror_mode": {
    "name": "ipython",
    "version": 3
   },
   "file_extension": ".py",
   "mimetype": "text/x-python",
   "name": "python",
   "nbconvert_exporter": "python",
   "pygments_lexer": "ipython3",
   "version": "3.11.2"
  },
  "orig_nbformat": 4
 },
 "nbformat": 4,
 "nbformat_minor": 2
}
