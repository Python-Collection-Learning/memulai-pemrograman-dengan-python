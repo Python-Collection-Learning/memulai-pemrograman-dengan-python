{
 "cells": [
  {
   "cell_type": "code",
   "execution_count": 7,
   "metadata": {},
   "outputs": [
    {
     "name": "stdout",
     "output_type": "stream",
     "text": [
      "160\n",
      "NicsCar\n",
      "Merah\n"
     ]
    }
   ],
   "source": [
    "# let's start with basic class\n",
    "class Mobil:\n",
    "    def __init__(self, warna, merek, kecepatan):\n",
    "        self.warna = warna\n",
    "        self.merek = merek\n",
    "        self.kecepatan = kecepatan\n",
    "    \n",
    "    def tambah_kecepatan(self):\n",
    "        self.kecepatan += 10\n",
    "\n",
    "mobil_1 = Mobil(\"Merah\", \"NicsCar\", 160)\n",
    "print(mobil_1.kecepatan)\n",
    "print(mobil_1.merek)\n",
    "print(mobil_1.warna)"
   ]
  },
  {
   "cell_type": "code",
   "execution_count": 3,
   "metadata": {},
   "outputs": [
    {
     "name": "stdout",
     "output_type": "stream",
     "text": [
      "160\n",
      "160\n",
      "210\n"
     ]
    }
   ],
   "source": [
    "# now let's create new class \"MobileSport\" and add new method \"turbo\"\n",
    "class MobilSport(Mobil):\n",
    "    def turbo(self):\n",
    "        self.kecepatan += 50\n",
    "\n",
    "# Kelas Mobil Dasar\n",
    "mobil_1 = Mobil(\"Merah\", \"NicsCar\", 160)\n",
    "print(mobil_1.kecepatan)\n",
    "\n",
    "# Kelas Mobil Sport\n",
    "mobil_sport_1 = MobilSport(\"Hitam\", \"NicsSportCar\", 160)\n",
    "print(mobil_sport_1.kecepatan)\n",
    "mobil_sport_1.turbo()\n",
    "print(mobil_sport_1.kecepatan)"
   ]
  },
  {
   "cell_type": "code",
   "execution_count": 5,
   "metadata": {},
   "outputs": [
    {
     "name": "stdout",
     "output_type": "stream",
     "text": [
      "160\n",
      "180\n"
     ]
    }
   ],
   "source": [
    "class MobilSport(Mobil):\n",
    "    def turbo(self):\n",
    "        self.kecepatan += 50\n",
    "    \n",
    "    def tambah_kecepatan(self):     # tambah_kecepatan\n",
    "        self.kecepatan += 20\n",
    "\n",
    "# Kelas Mobil Sport\n",
    "mobil_sport_1 = MobilSport(\"Hitam\", \"NicsSportCar\", 160)\n",
    "print(mobil_sport_1.kecepatan)\n",
    "mobil_sport_1.tambah_kecepatan()     # Memanggil metode baru tambah kecepatan()\n",
    "print(mobil_sport_1.kecepatan)"
   ]
  },
  {
   "cell_type": "code",
   "execution_count": 8,
   "metadata": {},
   "outputs": [
    {
     "name": "stdout",
     "output_type": "stream",
     "text": [
      "Kecepatan Anda meningkat! Hati-Hati!\n",
      "170\n"
     ]
    }
   ],
   "source": [
    "# you can use super() if you wanna use\n",
    "class MobilSport(Mobil):\n",
    "    def turbo(self):\n",
    "        self.kecepatan += 50\n",
    "    \n",
    "    def tambah_kecepatan(self):\n",
    "        super().tambah_kecepatan()\n",
    "        print(\"Kecepatan Anda meningkat! Hati-Hati!\")\n",
    "\n",
    "# Kelas Mobil Sport\n",
    "mobil_sport_1 = MobilSport(\"Hitam\", \"DicodingSportCar\", 160)\n",
    "mobil_sport_1.tambah_kecepatan()     # Memanggil metode baru tambah kecepatan()\n",
    "print(mobil_sport_1.kecepatan)"
   ]
  },
  {
   "cell_type": "code",
   "execution_count": 13,
   "metadata": {},
   "outputs": [
    {
     "name": "stdout",
     "output_type": "stream",
     "text": [
      "Neko adalah kucing berjenis Persian yang sudah berumur 3 tahun\n",
      "meow!\n"
     ]
    }
   ],
   "source": [
    "# practice\n",
    "class Animal:\n",
    "    def __init__(self, name, age, species):\n",
    "        self.name = name\n",
    "        self.age = age\n",
    "        self.species = species\n",
    "\n",
    "class Cat(Animal):\n",
    "    def __init__(self, name, age, species):\n",
    "        super().__init__(name, age, species)\n",
    "\n",
    "    def deskripsi(self):\n",
    "        return f\"{self.name} adalah kucing berjenis {self.species} yang sudah berumur {self.age} tahun\"\n",
    "\n",
    "    def suara(self):\n",
    "        return \"meow!\"\n",
    "\n",
    "# Membuat instance dari kelas Cat\n",
    "myCat = Cat(name=\"Neko\", age=3, species=\"Persian\")\n",
    "\n",
    "# Memanggil method deskripsi dan suara dari myCat\n",
    "print(myCat.deskripsi())\n",
    "print(myCat.suara())"
   ]
  }
 ],
 "metadata": {
  "kernelspec": {
   "display_name": "Python 3",
   "language": "python",
   "name": "python3"
  },
  "language_info": {
   "codemirror_mode": {
    "name": "ipython",
    "version": 3
   },
   "file_extension": ".py",
   "mimetype": "text/x-python",
   "name": "python",
   "nbconvert_exporter": "python",
   "pygments_lexer": "ipython3",
   "version": "3.11.2"
  },
  "orig_nbformat": 4
 },
 "nbformat": 4,
 "nbformat_minor": 2
}
