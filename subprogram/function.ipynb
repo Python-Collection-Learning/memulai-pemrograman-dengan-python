{
 "cells": [
  {
   "cell_type": "code",
   "execution_count": 1,
   "metadata": {},
   "outputs": [
    {
     "name": "stdout",
     "output_type": "stream",
     "text": [
      "50\n",
      "60\n"
     ]
    }
   ],
   "source": [
    "# it's called user defined functions\n",
    "def mencari_luas_persegi_panjang(panjang,lebar):\n",
    "    luas_persegi_panjang = panjang*lebar\n",
    "    return luas_persegi_panjang\n",
    "\n",
    "persegi_panjang_pertama = mencari_luas_persegi_panjang(5,10)\n",
    "print(persegi_panjang_pertama)\n",
    "\n",
    "persegi_panjang_kedua = mencari_luas_persegi_panjang(4,15)\n",
    "print(persegi_panjang_kedua)"
   ]
  },
  {
   "cell_type": "code",
   "execution_count": 6,
   "metadata": {},
   "outputs": [
    {
     "name": "stdout",
     "output_type": "stream",
     "text": [
      "50\n"
     ]
    }
   ],
   "source": [
    "# it's called function\n",
    "def mencari_luas_persegi_panjang(panjang,lebar):\n",
    "    luas_persegi_panjang = panjang*lebar\n",
    "    return luas_persegi_panjang\n",
    "\n",
    "# this is how call a function\n",
    "mencari_luas_persegi_panjang(5,10)\n",
    "\n",
    "# you can save result of function in variable\n",
    "persegi_panjang_pertama = mencari_luas_persegi_panjang(5,10)\n",
    "print(persegi_panjang_pertama)"
   ]
  },
  {
   "cell_type": "code",
   "execution_count": 7,
   "metadata": {},
   "outputs": [
    {
     "name": "stdout",
     "output_type": "stream",
     "text": [
      "50\n"
     ]
    }
   ],
   "source": [
    "# you can use docstring to create documentation\n",
    "def mencari_luas_persegi_panjang(panjang,lebar):\n",
    "    \"\"\"\n",
    "    Fungsi ini digunakan untuk menghitung luas persegi panjang.\n",
    "\n",
    "    Args:\n",
    "        panjang (int): Panjang persegi panjang.\n",
    "        lebar (int): Lebar persegi panjang.\n",
    "\n",
    "    Returns:\n",
    "        int: Luas persegi panjang hasil perhitungan.\n",
    "    \"\"\"\n",
    "\n",
    "    luas_persegi_panjang = panjang*lebar\n",
    "    return luas_persegi_panjang\n",
    "\n",
    "persegi_panjang_pertama = mencari_luas_persegi_panjang(5,10)\n",
    "print(persegi_panjang_pertama)"
   ]
  },
  {
   "cell_type": "code",
   "execution_count": 8,
   "metadata": {},
   "outputs": [
    {
     "name": "stdout",
     "output_type": "stream",
     "text": [
      "50\n",
      "50\n"
     ]
    }
   ],
   "source": [
    "# keyword argument\n",
    "def mencari_luas_persegi_panjang(panjang,lebar):\n",
    "    luas_persegi_panjang = panjang*lebar\n",
    "    return luas_persegi_panjang\n",
    "\n",
    "persegi_panjang_pertama = mencari_luas_persegi_panjang(panjang=5, lebar=10)\n",
    "\n",
    "print(persegi_panjang_pertama)\n",
    "\n",
    "persegi_panjang_kedua = mencari_luas_persegi_panjang(lebar=10, panjang=5)\n",
    "\n",
    "print(persegi_panjang_kedua)"
   ]
  },
  {
   "cell_type": "code",
   "execution_count": 9,
   "metadata": {},
   "outputs": [
    {
     "name": "stdout",
     "output_type": "stream",
     "text": [
      "50\n"
     ]
    }
   ],
   "source": [
    "# positional argumen\n",
    "def mencari_luas_persegi_panjang(panjang,lebar):\n",
    "    luas_persegi_panjang = panjang*lebar\n",
    "    return luas_persegi_panjang\n",
    " \n",
    "persegi_panjang_pertama = mencari_luas_persegi_panjang(5,10)\n",
    " \n",
    "print(persegi_panjang_pertama)"
   ]
  },
  {
   "cell_type": "code",
   "execution_count": 10,
   "metadata": {},
   "outputs": [
    {
     "name": "stdout",
     "output_type": "stream",
     "text": [
      "Halo, Nics! Selamat pagi!\n",
      "Halo, Nics! Selamat sore!\n"
     ]
    }
   ],
   "source": [
    "# parameter with Positional-or-Keyword\n",
    "def greeting(nama, pesan):\n",
    "    return \"Halo, \" + nama + \"! \" + pesan\n",
    "\n",
    "print(greeting(\"Nics\", \"Selamat pagi!\"))\n",
    "print(greeting(pesan=\"Selamat sore!\", nama=\"Nics\"))"
   ]
  },
  {
   "cell_type": "code",
   "execution_count": 13,
   "metadata": {},
   "outputs": [
    {
     "name": "stdout",
     "output_type": "stream",
     "text": [
      "58\n"
     ]
    }
   ],
   "source": [
    "# parameter with Positional-Only\n",
    "def penjumlahan(a, b, /):\n",
    "    return a + b\n",
    "\n",
    "print(penjumlahan(8, 50))"
   ]
  },
  {
   "cell_type": "code",
   "execution_count": 15,
   "metadata": {},
   "outputs": [
    {
     "name": "stdout",
     "output_type": "stream",
     "text": [
      "Halo, Nics! Selamat sore!\n"
     ]
    }
   ],
   "source": [
    "# parameter with Keyword-Only\n",
    "def greeting(*, nama, pesan):\n",
    "    return \"Halo, \" + nama + \"! \" + pesan\n",
    "\n",
    "print(greeting(pesan=\"Selamat sore!\",nama=\"Nics\"))"
   ]
  },
  {
   "cell_type": "code",
   "execution_count": 16,
   "metadata": {},
   "outputs": [
    {
     "name": "stdout",
     "output_type": "stream",
     "text": [
      "<class 'tuple'>\n",
      "6\n"
     ]
    }
   ],
   "source": [
    "# parameter with Var-Positional (Variadic Positional Parameter)\n",
    "def hitung_total(*args):\n",
    "    print(type(args))\n",
    "    total = sum(args)\n",
    "    return total\n",
    "\n",
    "print(hitung_total(1, 2, 3))"
   ]
  },
  {
   "cell_type": "code",
   "execution_count": 17,
   "metadata": {},
   "outputs": [
    {
     "name": "stdout",
     "output_type": "stream",
     "text": [
      "nama: Nics, usia: 17, pekerjaan: Python Programmer, \n"
     ]
    }
   ],
   "source": [
    "# parameter with Var-Keyword (Variadic Keyword Parameter)\n",
    "def cetak_info(**kwargs):\n",
    "    info = \"\"\n",
    "    for key, value in kwargs.items():\n",
    "        info += key + ': ' + value + \", \"\n",
    "    return info\n",
    "\n",
    "print(cetak_info(nama=\"Nics\", usia=\"17\", pekerjaan=\"Python Programmer\"))"
   ]
  },
  {
   "cell_type": "code",
   "execution_count": 18,
   "metadata": {},
   "outputs": [
    {
     "name": "stdout",
     "output_type": "stream",
     "text": [
      "50\n"
     ]
    }
   ],
   "source": [
    "# anonimous function (lambda expression)\n",
    "mencari_luas_persegi_panjang = lambda panjang, lebar: panjang*lebar\n",
    "print(mencari_luas_persegi_panjang(5,10))"
   ]
  },
  {
   "cell_type": "code",
   "execution_count": 19,
   "metadata": {},
   "outputs": [
    {
     "name": "stdout",
     "output_type": "stream",
     "text": [
      "30\n"
     ]
    }
   ],
   "source": [
    "# this is global variable\n",
    "a = 10\n",
    "\n",
    "def add(b):\n",
    "    result = a+b\n",
    "    return result\n",
    "\n",
    "bilanganPertama = add(20)\n",
    "print(bilanganPertama)"
   ]
  },
  {
   "cell_type": "code",
   "execution_count": 20,
   "metadata": {},
   "outputs": [
    {
     "name": "stdout",
     "output_type": "stream",
     "text": [
      "25\n"
     ]
    }
   ],
   "source": [
    "# this is local variable\n",
    "def add(a, b):\n",
    "    lokal_var = 5\n",
    "    result = a+b-lokal_var\n",
    "    return result\n",
    "\n",
    "bilanganPertama = add(10,20)\n",
    "print(bilanganPertama)"
   ]
  }
 ],
 "metadata": {
  "kernelspec": {
   "display_name": "Python 3",
   "language": "python",
   "name": "python3"
  },
  "language_info": {
   "codemirror_mode": {
    "name": "ipython",
    "version": 3
   },
   "file_extension": ".py",
   "mimetype": "text/x-python",
   "name": "python",
   "nbconvert_exporter": "python",
   "pygments_lexer": "ipython3",
   "version": "3.11.2"
  },
  "orig_nbformat": 4
 },
 "nbformat": 4,
 "nbformat_minor": 2
}
