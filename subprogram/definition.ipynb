{
 "cells": [
  {
   "cell_type": "code",
   "execution_count": 1,
   "metadata": {},
   "outputs": [
    {
     "name": "stdout",
     "output_type": "stream",
     "text": [
      "50\n",
      "60\n"
     ]
    }
   ],
   "source": [
    "# not effective way\n",
    "# Luas pertama\n",
    "panjang = 5\n",
    "lebar = 10\n",
    "\n",
    "luas_persegi_panjang = panjang * lebar\n",
    "print(luas_persegi_panjang)\n",
    "\n",
    "# Luas kedua\n",
    "panjang = 4\n",
    "lebar = 15\n",
    "\n",
    "luas_persegi_panjang = panjang * lebar\n",
    "print(luas_persegi_panjang)"
   ]
  },
  {
   "cell_type": "code",
   "execution_count": 2,
   "metadata": {},
   "outputs": [
    {
     "name": "stdout",
     "output_type": "stream",
     "text": [
      "50\n",
      "60\n"
     ]
    }
   ],
   "source": [
    "# effective way\n",
    "def mencari_luas_persegi_panjang(panjang,lebar):\n",
    "    luas_persegi_panjang = panjang*lebar\n",
    "    return luas_persegi_panjang\n",
    "\n",
    "persegi_panjang_pertama = mencari_luas_persegi_panjang(5,10)\n",
    "print(persegi_panjang_pertama)\n",
    "\n",
    "persegi_panjang_kedua = mencari_luas_persegi_panjang(4,15)\n",
    "print(persegi_panjang_kedua)"
   ]
  }
 ],
 "metadata": {
  "kernelspec": {
   "display_name": "Python 3",
   "language": "python",
   "name": "python3"
  },
  "language_info": {
   "codemirror_mode": {
    "name": "ipython",
    "version": 3
   },
   "file_extension": ".py",
   "mimetype": "text/x-python",
   "name": "python",
   "nbconvert_exporter": "python",
   "pygments_lexer": "ipython3",
   "version": "3.11.2"
  },
  "orig_nbformat": 4
 },
 "nbformat": 4,
 "nbformat_minor": 2
}
