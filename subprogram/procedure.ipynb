{
 "cells": [
  {
   "cell_type": "code",
   "execution_count": 2,
   "metadata": {},
   "outputs": [],
   "source": [
    "# this is called procedure\n",
    "def greeting(name):\n",
    "    print(\"Halo \" + name + \", Selamat Datang!\")"
   ]
  },
  {
   "cell_type": "code",
   "execution_count": 4,
   "metadata": {},
   "outputs": [
    {
     "name": "stdout",
     "output_type": "stream",
     "text": [
      "Halo Nics Projects, Selamat Datang!\n"
     ]
    }
   ],
   "source": [
    "# this is how call procedure\n",
    "def greeting(name):\n",
    "    print(\"Halo \" + name + \", Selamat Datang!\")\n",
    "\n",
    "greeting(\"Nics Projects\")"
   ]
  },
  {
   "cell_type": "code",
   "execution_count": 3,
   "metadata": {},
   "outputs": [
    {
     "name": "stdout",
     "output_type": "stream",
     "text": [
      "Halo Selamat Datang!\n"
     ]
    }
   ],
   "source": [
    "# you can create procedure without parameter\n",
    "def greeting():\n",
    "    print(\"Halo Selamat Datang!\")\n",
    "\n",
    "greeting()"
   ]
  }
 ],
 "metadata": {
  "kernelspec": {
   "display_name": "Python 3",
   "language": "python",
   "name": "python3"
  },
  "language_info": {
   "codemirror_mode": {
    "name": "ipython",
    "version": 3
   },
   "file_extension": ".py",
   "mimetype": "text/x-python",
   "name": "python",
   "nbconvert_exporter": "python",
   "pygments_lexer": "ipython3",
   "version": "3.11.2"
  },
  "orig_nbformat": 4
 },
 "nbformat": 4,
 "nbformat_minor": 2
}
