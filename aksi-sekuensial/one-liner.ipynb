{
 "cells": [
  {
   "cell_type": "code",
   "execution_count": 2,
   "metadata": {},
   "outputs": [
    {
     "name": "stdout",
     "output_type": "stream",
     "text": [
      "Setelah pertukaran: \n",
      "x =  2\n",
      "y = 1\n"
     ]
    }
   ],
   "source": [
    "# this is how we generally write code\n",
    "x = 1\n",
    "y = 2\n",
    "\n",
    "temp = x\n",
    "x = y\n",
    "y = temp\n",
    "\n",
    "print(\"Setelah pertukaran: \")\n",
    "print(\"x = \", x)\n",
    "print(\"y =\",  y)"
   ]
  },
  {
   "cell_type": "code",
   "execution_count": 1,
   "metadata": {},
   "outputs": [
    {
     "name": "stdout",
     "output_type": "stream",
     "text": [
      "Setelah pertukaran: \n",
      "x = 2\n",
      "y = 1\n"
     ]
    }
   ],
   "source": [
    "# this is how we implement one liner\n",
    "x = 1\n",
    "y = 2\n",
    "\n",
    "x, y = y, x    # One-liner\n",
    "\n",
    "print('Setelah pertukaran: ')\n",
    "print('x =', x)\n",
    "print('y =', y)"
   ]
  }
 ],
 "metadata": {
  "kernelspec": {
   "display_name": "Python 3",
   "language": "python",
   "name": "python3"
  },
  "language_info": {
   "codemirror_mode": {
    "name": "ipython",
    "version": 3
   },
   "file_extension": ".py",
   "mimetype": "text/x-python",
   "name": "python",
   "nbconvert_exporter": "python",
   "pygments_lexer": "ipython3",
   "version": "3.11.2"
  },
  "orig_nbformat": 4
 },
 "nbformat": 4,
 "nbformat_minor": 2
}
