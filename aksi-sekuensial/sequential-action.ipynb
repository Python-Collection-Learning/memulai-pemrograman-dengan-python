{
 "cells": [
  {
   "cell_type": "code",
   "execution_count": 2,
   "metadata": {},
   "outputs": [
    {
     "name": "stdout",
     "output_type": "stream",
     "text": [
      "Selamat datang dalam program Python!\n",
      "\n",
      "Silakan masukkan data diri Anda.\n",
      "Selamat datang nics dalam program Python, per 2023 umur Anda adalah 24 tahun.\n",
      "\n",
      "Terima kasih telah menggunakan program Python!\n"
     ]
    }
   ],
   "source": [
    "print(\"Selamat datang dalam program Python!\\n\")\n",
    "print(\"Silakan masukkan data diri Anda.\")\n",
    "nama = input(\"Masukkan nama Anda: \")\n",
    "tahun_lahir = input(\"Masukkan tahun lahir Anda: \")\n",
    "umur = 2023 - int(tahun_lahir)\n",
    " \n",
    "print(f\"Selamat datang {nama} dalam program Python, per 2023 umur Anda adalah {umur} tahun.\\n\")\n",
    "print(\"Terima kasih telah menggunakan program Python!\")"
   ]
  },
  {
   "cell_type": "code",
   "execution_count": 3,
   "metadata": {},
   "outputs": [
    {
     "name": "stdout",
     "output_type": "stream",
     "text": [
      "15\n"
     ]
    }
   ],
   "source": [
    "a = 6\n",
    "b = 9\n",
    " \n",
    "result = a + b\n",
    "print(result)"
   ]
  },
  {
   "cell_type": "code",
   "execution_count": 4,
   "metadata": {},
   "outputs": [
    {
     "name": "stdout",
     "output_type": "stream",
     "text": [
      "15\n"
     ]
    }
   ],
   "source": [
    "b = 9\n",
    "a = 6\n",
    "\n",
    "result = a + b\n",
    "print(result)"
   ]
  },
  {
   "cell_type": "code",
   "execution_count": 5,
   "metadata": {},
   "outputs": [
    {
     "name": "stdout",
     "output_type": "stream",
     "text": [
      "36\n",
      "3\n"
     ]
    }
   ],
   "source": [
    "a = 6\n",
    "b = 9\n",
    " \n",
    "print(a**2)\n",
    "print(b//3)"
   ]
  },
  {
   "cell_type": "code",
   "execution_count": 6,
   "metadata": {},
   "outputs": [
    {
     "name": "stdout",
     "output_type": "stream",
     "text": [
      "3\n",
      "36\n"
     ]
    }
   ],
   "source": [
    "a = 6\n",
    "b = 9\n",
    "\n",
    "print(b//3)\n",
    "print(a**2)"
   ]
  }
 ],
 "metadata": {
  "kernelspec": {
   "display_name": "Python 3",
   "language": "python",
   "name": "python3"
  },
  "language_info": {
   "codemirror_mode": {
    "name": "ipython",
    "version": 3
   },
   "file_extension": ".py",
   "mimetype": "text/x-python",
   "name": "python",
   "nbconvert_exporter": "python",
   "pygments_lexer": "ipython3",
   "version": "3.11.2"
  },
  "orig_nbformat": 4
 },
 "nbformat": 4,
 "nbformat_minor": 2
}
