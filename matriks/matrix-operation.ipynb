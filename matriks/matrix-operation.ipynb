{
 "cells": [
  {
   "cell_type": "code",
   "execution_count": 1,
   "metadata": {},
   "outputs": [
    {
     "name": "stdout",
     "output_type": "stream",
     "text": [
      "[[10, 0], [2, -4]]\n"
     ]
    }
   ],
   "source": [
    "# how to create matrix 2x2\n",
    "var_mat = [[5, 0],\n",
    "          [1, -2]]\n",
    "def_mat = [[0 for j in range(2)] for i in range(2)]\n",
    "\n",
    "for i in range(len(var_mat)):\n",
    "  for j in range(len(var_mat[0])):\n",
    "    def_mat[i][j] = var_mat[i][j]*2\n",
    "\n",
    "print(def_mat)"
   ]
  },
  {
   "cell_type": "code",
   "execution_count": 3,
   "metadata": {},
   "outputs": [
    {
     "name": "stdout",
     "output_type": "stream",
     "text": [
      "[[10  0]\n",
      " [ 2 -4]]\n"
     ]
    }
   ],
   "source": [
    "# how to create matrix 2X2 using numpy\n",
    "import numpy as np\n",
    "\n",
    "var_mat = np.array([[5, 0],\n",
    "                    [1, -2]])\n",
    "\n",
    "result = var_mat * 2\n",
    "\n",
    "print(result)"
   ]
  }
 ],
 "metadata": {
  "kernelspec": {
   "display_name": "Python 3",
   "language": "python",
   "name": "python3"
  },
  "language_info": {
   "codemirror_mode": {
    "name": "ipython",
    "version": 3
   },
   "file_extension": ".py",
   "mimetype": "text/x-python",
   "name": "python",
   "nbconvert_exporter": "python",
   "pygments_lexer": "ipython3",
   "version": "3.11.2"
  },
  "orig_nbformat": 4
 },
 "nbformat": 4,
 "nbformat_minor": 2
}
