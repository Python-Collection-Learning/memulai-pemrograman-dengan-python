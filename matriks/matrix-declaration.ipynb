{
 "cells": [
  {
   "cell_type": "code",
   "execution_count": 1,
   "metadata": {},
   "outputs": [
    {
     "name": "stdout",
     "output_type": "stream",
     "text": [
      "[[1, 0, 1, 0, 1], [0, 1, 0, 1, 0], [1, 0, 1, 0, 1]]\n"
     ]
    }
   ],
   "source": [
    "# declaration and initialize matrix\n",
    "matriks = [[1, 0, 1, 0, 1],\n",
    "            [0, 1, 0, 1, 0],\n",
    "            [1, 0, 1, 0, 1]]\n",
    "     \n",
    "print(matriks)"
   ]
  },
  {
   "cell_type": "code",
   "execution_count": 2,
   "metadata": {},
   "outputs": [
    {
     "name": "stdout",
     "output_type": "stream",
     "text": [
      "[[0, 0, 0, 0], [0, 0, 0, 0], [0, 0, 0, 0]]\n"
     ]
    }
   ],
   "source": [
    "# declaration with default value\n",
    "matriks = [[0 for j in range(4)] for i in range(3)]\n",
    "\n",
    "print(matriks)"
   ]
  },
  {
   "cell_type": "code",
   "execution_count": 3,
   "metadata": {},
   "outputs": [
    {
     "name": "stdout",
     "output_type": "stream",
     "text": [
      "12\n"
     ]
    }
   ],
   "source": [
    "# access matrix element\n",
    "var_mat = [[1, 2, 3, 4, 5],\n",
    "           [6, 7, 8, 9, 10],\n",
    "           [11, 12, 13, 14, 15],\n",
    "           [16, 17, 18, 19, 20],\n",
    "           [21, 22, 23, 24, 25]]\n",
    "           \n",
    "print(var_mat[2][1])"
   ]
  }
 ],
 "metadata": {
  "kernelspec": {
   "display_name": "Python 3",
   "language": "python",
   "name": "python3"
  },
  "language_info": {
   "codemirror_mode": {
    "name": "ipython",
    "version": 3
   },
   "file_extension": ".py",
   "mimetype": "text/x-python",
   "name": "python",
   "nbconvert_exporter": "python",
   "pygments_lexer": "ipython3",
   "version": "3.11.2"
  },
  "orig_nbformat": 4
 },
 "nbformat": 4,
 "nbformat_minor": 2
}
