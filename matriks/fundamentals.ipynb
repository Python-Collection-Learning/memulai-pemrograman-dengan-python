{
 "cells": [
  {
   "cell_type": "code",
   "execution_count": 1,
   "metadata": {},
   "outputs": [
    {
     "name": "stdout",
     "output_type": "stream",
     "text": [
      "[[1, 2, 3], [4, 5, 6], [7, 8, 9]]\n"
     ]
    }
   ],
   "source": [
    "# simple matrix\n",
    "matriks = [[1, 2, 3],\n",
    "          [4, 5, 6],\n",
    "          [7, 8, 9]]\n",
    "            \n",
    "print(matriks)"
   ]
  },
  {
   "cell_type": "code",
   "execution_count": 1,
   "metadata": {},
   "outputs": [
    {
     "name": "stdout",
     "output_type": "stream",
     "text": [
      "[[1 2 3]\n",
      " [4 5 6]\n",
      " [7 8 9]]\n"
     ]
    }
   ],
   "source": [
    "# matrix using numpy library\n",
    "import numpy\n",
    "\n",
    "matriks = numpy.array([[1, 2, 3], [4, 5, 6], [7, 8 ,9]])\n",
    "print(matriks)"
   ]
  },
  {
   "cell_type": "code",
   "execution_count": 2,
   "metadata": {},
   "outputs": [
    {
     "name": "stdout",
     "output_type": "stream",
     "text": [
      "Ukuran keseluruhan elemen list dalam bytes =  240\n",
      "Ukuran keseluruhan elemen NumPy dalam bytes =  36\n"
     ]
    }
   ],
   "source": [
    "# difference between using numpy library and not\n",
    "import numpy \n",
    "import sys\n",
    "\n",
    "var_list= [[1, 2, 3], [4, 5, 6], [7, 8, 9]]\n",
    "var_array= numpy.array([[1, 2, 3], [4, 5, 6], [7, 8 ,9]])\n",
    "\n",
    "print(\"Ukuran keseluruhan elemen list dalam bytes = \",sys.getsizeof(var_list)*len(var_list))\n",
    "print(\"Ukuran keseluruhan elemen NumPy dalam bytes = \", var_array.size*var_array.itemsize)"
   ]
  }
 ],
 "metadata": {
  "kernelspec": {
   "display_name": "Python 3",
   "language": "python",
   "name": "python3"
  },
  "language_info": {
   "codemirror_mode": {
    "name": "ipython",
    "version": 3
   },
   "file_extension": ".py",
   "mimetype": "text/x-python",
   "name": "python",
   "nbconvert_exporter": "python",
   "pygments_lexer": "ipython3",
   "version": "3.11.2"
  },
  "orig_nbformat": 4
 },
 "nbformat": 4,
 "nbformat_minor": 2
}
