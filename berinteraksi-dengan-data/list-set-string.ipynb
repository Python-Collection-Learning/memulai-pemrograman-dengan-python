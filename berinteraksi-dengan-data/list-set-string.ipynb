{
 "cells": [
  {
   "cell_type": "code",
   "execution_count": 1,
   "metadata": {},
   "outputs": [
    {
     "name": "stdout",
     "output_type": "stream",
     "text": [
      "[1, 3, 3, 5, 5, 5, 7, 7, 9]\n",
      "9\n"
     ]
    }
   ],
   "source": [
    "# you can use len() to count character lenght\n",
    "contoh_list = [1, 3, 3, 5, 5, 5, 7, 7, 9]\n",
    "\n",
    "print(contoh_list)\n",
    "print(len(contoh_list))"
   ]
  },
  {
   "cell_type": "code",
   "execution_count": 3,
   "metadata": {},
   "outputs": [
    {
     "name": "stdout",
     "output_type": "stream",
     "text": [
      "{1, 3, 5, 7, 9}\n",
      "5\n"
     ]
    }
   ],
   "source": [
    "# if you use set() and then len(), every duplicate character will remove before count the character\n",
    "contoh_list = set([1, 3, 3, 5, 5, 5, 7, 7, 9])\n",
    "\n",
    "print(contoh_list)\n",
    "print(len(contoh_list))"
   ]
  },
  {
   "cell_type": "code",
   "execution_count": 4,
   "metadata": {},
   "outputs": [
    {
     "name": "stdout",
     "output_type": "stream",
     "text": [
      "Belajar Python\n",
      "14\n"
     ]
    }
   ],
   "source": [
    "# you can use len() to count string too\n",
    "contoh_list = \"Belajar Python\"\n",
    "\n",
    "print(contoh_list)\n",
    "print(len(contoh_list))"
   ]
  },
  {
   "cell_type": "code",
   "execution_count": 5,
   "metadata": {},
   "outputs": [
    {
     "name": "stdout",
     "output_type": "stream",
     "text": [
      "5\n",
      "96\n"
     ]
    }
   ],
   "source": [
    "# you can use min() and max() to know minimum value and maximal value\n",
    "angka = [13, 7, 24, 5, 96, 84, 71, 11, 38]\n",
    "print(min(angka))\n",
    "print(max(angka))"
   ]
  },
  {
   "cell_type": "code",
   "execution_count": 6,
   "metadata": {},
   "outputs": [
    {
     "name": "stdout",
     "output_type": "stream",
     "text": [
      "3\n"
     ]
    }
   ],
   "source": [
    "# use count() to know how many object in list\n",
    "genap = [2, 4, 4, 6, 6, 6, 8, 10, 10]\n",
    "print(genap.count(6))"
   ]
  },
  {
   "cell_type": "code",
   "execution_count": 8,
   "metadata": {},
   "outputs": [
    {
     "name": "stdout",
     "output_type": "stream",
     "text": [
      "6\n"
     ]
    }
   ],
   "source": [
    "# you can use count() in string\n",
    "string = \"Belajar Python sangat menyenangkan\"\n",
    "substring = \"a\"\n",
    "print(string.count(substring))"
   ]
  },
  {
   "cell_type": "code",
   "execution_count": 10,
   "metadata": {},
   "outputs": [
    {
     "name": "stdout",
     "output_type": "stream",
     "text": [
      "True\n",
      "False\n",
      "False\n",
      "True\n"
     ]
    }
   ],
   "source": [
    "# you can use in and not in to check value\n",
    "kalimat = \"Belajar Python sangat menyenangkan\"\n",
    "print('Python' in kalimat)\n",
    "print('tidak' in kalimat)\n",
    "print('Python' not in kalimat)\n",
    "print('tidak' not in kalimat)"
   ]
  },
  {
   "cell_type": "code",
   "execution_count": 11,
   "metadata": {},
   "outputs": [
    {
     "name": "stdout",
     "output_type": "stream",
     "text": [
      "['shirt', 'white', 'L']\n"
     ]
    }
   ],
   "source": [
    "# give value to multiple variable\n",
    "data = ['shirt', 'white', 'L']\n",
    "apparel, color, size = data\n",
    "\n",
    "print(data)"
   ]
  },
  {
   "cell_type": "code",
   "execution_count": 13,
   "metadata": {},
   "outputs": [
    {
     "name": "stdout",
     "output_type": "stream",
     "text": [
      "['helikopter', 'mobil', 'motor', 'pesawat']\n",
      "['pesawat', 'motor', 'mobil', 'helikopter']\n"
     ]
    }
   ],
   "source": [
    "# you can use sort() to sorting data\n",
    "kendaraan = ['motor', 'mobil', 'helikopter', 'pesawat']\n",
    "kendaraan.sort()\n",
    "print(kendaraan)\n",
    "\n",
    "# use reverse = true, to sort data by descending\n",
    "kendaraan = ['motor', 'mobil', 'helikopter', 'pesawat']\n",
    "kendaraan.sort(reverse=True)\n",
    "print(kendaraan)"
   ]
  },
  {
   "cell_type": "code",
   "execution_count": 15,
   "metadata": {},
   "outputs": [
    {
     "ename": "TypeError",
     "evalue": "'<' not supported between instances of 'int' and 'str'",
     "output_type": "error",
     "traceback": [
      "\u001b[1;31m---------------------------------------------------------------------------\u001b[0m",
      "\u001b[1;31mTypeError\u001b[0m                                 Traceback (most recent call last)",
      "Cell \u001b[1;32mIn[15], line 3\u001b[0m\n\u001b[0;32m      1\u001b[0m \u001b[39m# sort can't process number and string in same time\u001b[39;00m\n\u001b[0;32m      2\u001b[0m urutan \u001b[39m=\u001b[39m [\u001b[39m'\u001b[39m\u001b[39mNics\u001b[39m\u001b[39m'\u001b[39m, \u001b[39m1\u001b[39m, \u001b[39m2\u001b[39m, \u001b[39m'\u001b[39m\u001b[39mProjects\u001b[39m\u001b[39m'\u001b[39m, \u001b[39m3\u001b[39m]\n\u001b[1;32m----> 3\u001b[0m urutan\u001b[39m.\u001b[39;49msort()\n\u001b[0;32m      5\u001b[0m \u001b[39mprint\u001b[39m(urutan)\n",
      "\u001b[1;31mTypeError\u001b[0m: '<' not supported between instances of 'int' and 'str'"
     ]
    }
   ],
   "source": [
    "# sort can't process number and string in same time\n",
    "urutan = ['Nics', 1, 2, 'Projects', 3]\n",
    "urutan.sort()\n",
    "\n",
    "print(urutan)\n"
   ]
  },
  {
   "cell_type": "code",
   "execution_count": 17,
   "metadata": {},
   "outputs": [
    {
     "name": "stdout",
     "output_type": "stream",
     "text": [
      "['Pesawat', 'helikopter', 'mobil', 'motor']\n"
     ]
    }
   ],
   "source": [
    "# sort() using ASCII so capitalize will be first\n",
    "kendaraan = ['motor', 'mobil', 'helikopter', 'Pesawat']\n",
    "kendaraan.sort()\n",
    "\n",
    "print(kendaraan)"
   ]
  }
 ],
 "metadata": {
  "kernelspec": {
   "display_name": "Python 3",
   "language": "python",
   "name": "python3"
  },
  "language_info": {
   "codemirror_mode": {
    "name": "ipython",
    "version": 3
   },
   "file_extension": ".py",
   "mimetype": "text/x-python",
   "name": "python",
   "nbconvert_exporter": "python",
   "pygments_lexer": "ipython3",
   "version": "3.11.2"
  },
  "orig_nbformat": 4
 },
 "nbformat": 4,
 "nbformat_minor": 2
}
