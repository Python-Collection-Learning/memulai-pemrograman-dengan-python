{
 "cells": [
  {
   "cell_type": "code",
   "execution_count": 2,
   "metadata": {},
   "outputs": [
    {
     "name": "stdout",
     "output_type": "stream",
     "text": [
      "NICS PROJECTS\n"
     ]
    }
   ],
   "source": [
    "# use upper to change string to uppercase\n",
    "kata = 'nics projects'\n",
    "kata = kata.upper()\n",
    "print(kata)"
   ]
  },
  {
   "cell_type": "code",
   "execution_count": 4,
   "metadata": {},
   "outputs": [
    {
     "name": "stdout",
     "output_type": "stream",
     "text": [
      "nics projects\n"
     ]
    }
   ],
   "source": [
    "# use lower to change string to lowercase\n",
    "kata = 'NICS PROJECTS'\n",
    "kata = kata.lower()\n",
    "print(kata)"
   ]
  },
  {
   "cell_type": "code",
   "execution_count": 6,
   "metadata": {},
   "outputs": [
    {
     "name": "stdout",
     "output_type": "stream",
     "text": [
      "Nics projects\n"
     ]
    }
   ],
   "source": [
    "# use rstrip to remove whitespace from right side\n",
    "print(\"Nics projects          \".rstrip())"
   ]
  },
  {
   "cell_type": "code",
   "execution_count": 8,
   "metadata": {},
   "outputs": [
    {
     "name": "stdout",
     "output_type": "stream",
     "text": [
      "Nics projects\n"
     ]
    }
   ],
   "source": [
    "# use lstrip to remove whitespace from left side\n",
    "print(\"           Nics projects\".lstrip())"
   ]
  },
  {
   "cell_type": "code",
   "execution_count": 10,
   "metadata": {},
   "outputs": [
    {
     "name": "stdout",
     "output_type": "stream",
     "text": [
      "Nics projects\n"
     ]
    }
   ],
   "source": [
    "# use strip to remove whitespace from beginning and end\n",
    "print(\"         Nics projects          \".strip())"
   ]
  },
  {
   "cell_type": "code",
   "execution_count": 13,
   "metadata": {},
   "outputs": [
    {
     "name": "stdout",
     "output_type": "stream",
     "text": [
      "Nics\n"
     ]
    }
   ],
   "source": [
    "# remove character \n",
    "kata = 'CodeCodeNicsCodeCode'\n",
    "print(kata.strip(\"Code\"))"
   ]
  },
  {
   "cell_type": "code",
   "execution_count": 21,
   "metadata": {},
   "outputs": [
    {
     "name": "stdout",
     "output_type": "stream",
     "text": [
      "True\n",
      "False\n"
     ]
    }
   ],
   "source": [
    "# use startswith to find string from beginning, it will return true / false\n",
    "print('Nics Projects'.startswith('Nics'))\n",
    "print('Nics Projects'.startswith('Projects'))"
   ]
  },
  {
   "cell_type": "code",
   "execution_count": 23,
   "metadata": {},
   "outputs": [
    {
     "name": "stdout",
     "output_type": "stream",
     "text": [
      "False\n",
      "True\n"
     ]
    }
   ],
   "source": [
    "# use endswith to find string from end, it will return true / false\n",
    "print('Nics Projects'.endswith('Nics'))\n",
    "print('Nics Projects'.endswith('Projects'))"
   ]
  },
  {
   "cell_type": "code",
   "execution_count": 28,
   "metadata": {},
   "outputs": [
    {
     "name": "stdout",
     "output_type": "stream",
     "text": [
      "Nics Projects !\n",
      "Nics_Projects_!\n"
     ]
    }
   ],
   "source": [
    "# use join to merge some string\n",
    "# the whitspace called delimiter, you can fill anything you want\n",
    "print(' '.join(['Nics','Projects', '!']))\n",
    "print('_'.join(['Nics','Projects', '!']))"
   ]
  },
  {
   "cell_type": "code",
   "execution_count": 30,
   "metadata": {},
   "outputs": [
    {
     "name": "stdout",
     "output_type": "stream",
     "text": [
      "['Nics', 'Projects', '!']\n"
     ]
    }
   ],
   "source": [
    "# use split to break string\n",
    "print('Nics Projects !'.split())"
   ]
  },
  {
   "cell_type": "code",
   "execution_count": 32,
   "metadata": {},
   "outputs": [
    {
     "name": "stdout",
     "output_type": "stream",
     "text": [
      "['Halo,', 'aku ikan,', 'aku suka sekali menyelam', 'aku tinggal di perairan.', 'Badanku licin dan renangku cepat.', 'Senang berkenalan denganmu.']\n"
     ]
    }
   ],
   "source": [
    "# you can use newline (\\n) in split\n",
    "print('''Halo,\n",
    "aku ikan,\n",
    "aku suka sekali menyelam\n",
    "aku tinggal di perairan.\n",
    "Badanku licin dan renangku cepat.\n",
    "Senang berkenalan denganmu.'''.split('\\n'))"
   ]
  },
  {
   "cell_type": "code",
   "execution_count": 36,
   "metadata": {},
   "outputs": [
    {
     "name": "stdout",
     "output_type": "stream",
     "text": [
      "let's learn machine learning\n"
     ]
    }
   ],
   "source": [
    "# use replace to change a string\n",
    "string = \"let's learn python\"\n",
    "print(string.replace(\"python\", \"machine learning\"))"
   ]
  },
  {
   "cell_type": "code",
   "execution_count": 38,
   "metadata": {},
   "outputs": [
    {
     "name": "stdout",
     "output_type": "stream",
     "text": [
      "True\n"
     ]
    }
   ],
   "source": [
    "# check string if it is uppercase by using isupper\n",
    "kata = 'NICS PROJECTS'\n",
    "print(kata.isupper())"
   ]
  },
  {
   "cell_type": "code",
   "execution_count": 40,
   "metadata": {},
   "outputs": [
    {
     "name": "stdout",
     "output_type": "stream",
     "text": [
      "True\n"
     ]
    }
   ],
   "source": [
    "# check string if it is lowercase by using islower\n",
    "kata = 'nics projects'\n",
    "print(kata.islower())"
   ]
  },
  {
   "cell_type": "code",
   "execution_count": 43,
   "metadata": {},
   "outputs": [
    {
     "name": "stdout",
     "output_type": "stream",
     "text": [
      "True\n"
     ]
    }
   ],
   "source": [
    "# check string if it is alphabet by using isalpha\n",
    "kata = 'nicsprojects'\n",
    "print(kata.isalpha())"
   ]
  },
  {
   "cell_type": "code",
   "execution_count": 45,
   "metadata": {},
   "outputs": [
    {
     "name": "stdout",
     "output_type": "stream",
     "text": [
      "True\n"
     ]
    }
   ],
   "source": [
    "# check string if it is alphanumeric by using isalnum\n",
    "kata = 'nicsprojects123'\n",
    "print(kata.isalnum())"
   ]
  },
  {
   "cell_type": "code",
   "execution_count": 47,
   "metadata": {},
   "outputs": [
    {
     "name": "stdout",
     "output_type": "stream",
     "text": [
      "True\n"
     ]
    }
   ],
   "source": [
    "# check string if it is numeric by using isdecimal\n",
    "print('123'.isdecimal())"
   ]
  },
  {
   "cell_type": "code",
   "execution_count": 49,
   "metadata": {},
   "outputs": [
    {
     "name": "stdout",
     "output_type": "stream",
     "text": [
      "True\n"
     ]
    }
   ],
   "source": [
    "# check string if it is whitespace by using isspace\n",
    "print('         '.isspace())"
   ]
  },
  {
   "cell_type": "code",
   "execution_count": 51,
   "metadata": {},
   "outputs": [
    {
     "name": "stdout",
     "output_type": "stream",
     "text": [
      "True\n"
     ]
    }
   ],
   "source": [
    "# check string if it is capitalize by using isspace\n",
    "print('Nics Projects'.istitle())"
   ]
  },
  {
   "cell_type": "code",
   "execution_count": 53,
   "metadata": {},
   "outputs": [
    {
     "name": "stdout",
     "output_type": "stream",
     "text": [
      "0Code\n"
     ]
    }
   ],
   "source": [
    "# use zfill to add 0 in the beginning of string\n",
    "teks = 'Code'\n",
    "tambah_number = teks.zfill(5)\n",
    "print(tambah_number)"
   ]
  },
  {
   "cell_type": "code",
   "execution_count": 56,
   "metadata": {},
   "outputs": [
    {
     "name": "stdout",
     "output_type": "stream",
     "text": [
      "       nics projects\n",
      "!!!!!!!nics projects\n"
     ]
    }
   ],
   "source": [
    "# use rjust to tidy up text printing on right side\n",
    "print('nics projects'.rjust(20)) \n",
    "\n",
    "# you can also add character \n",
    "print('nics projects'.rjust(20,'!')) "
   ]
  },
  {
   "cell_type": "code",
   "execution_count": 58,
   "metadata": {},
   "outputs": [
    {
     "name": "stdout",
     "output_type": "stream",
     "text": [
      "nics projects       \n",
      "nics projects!!!!!!!\n"
     ]
    }
   ],
   "source": [
    "# use ljust to tidy up text printing on left side\n",
    "print('nics projects'.ljust(20)) \n",
    "\n",
    "# you can also add character \n",
    "print('nics projects'.ljust(20,'!')) "
   ]
  },
  {
   "cell_type": "code",
   "execution_count": 61,
   "metadata": {},
   "outputs": [
    {
     "name": "stdout",
     "output_type": "stream",
     "text": [
      "-------------------------------------------Nics Projects--------------------------------------------\n"
     ]
    }
   ],
   "source": [
    "# use center to center text\n",
    "print('Nics Projects'.center(100, '-'))"
   ]
  }
 ],
 "metadata": {
  "kernelspec": {
   "display_name": "Python 3",
   "language": "python",
   "name": "python3"
  },
  "language_info": {
   "codemirror_mode": {
    "name": "ipython",
    "version": 3
   },
   "file_extension": ".py",
   "mimetype": "text/x-python",
   "name": "python",
   "nbconvert_exporter": "python",
   "pygments_lexer": "ipython3",
   "version": "3.11.2"
  },
  "orig_nbformat": 4
 },
 "nbformat": 4,
 "nbformat_minor": 2
}
