{
 "cells": [
  {
   "cell_type": "code",
   "execution_count": 2,
   "metadata": {},
   "outputs": [
    {
     "name": "stdout",
     "output_type": "stream",
     "text": [
      "<class 'int'>\n",
      "<class 'float'>\n",
      "<class 'complex'>\n"
     ]
    }
   ],
   "source": [
    "# this is an example numeric data type in python\n",
    "x = 6 # this is integer\n",
    "print(type(x))\n",
    "\n",
    "x = 6.0 # this is float\n",
    "print(type(x))\n",
    "\n",
    "x = 1+2j # this is complex\n",
    "print(type(x))"
   ]
  },
  {
   "cell_type": "code",
   "execution_count": 4,
   "metadata": {},
   "outputs": [
    {
     "name": "stdout",
     "output_type": "stream",
     "text": [
      "10\n",
      "140706894509128\n",
      "11\n",
      "140706894509160\n"
     ]
    }
   ],
   "source": [
    "# the numeric data type is immmutable,it's mean that the value can't change\n",
    "# example\n",
    "var = 10 \n",
    "print(var) # result from var \n",
    "print(id(var)) # result of memories\n",
    "\n",
    "var = 11\n",
    "print(var) # result from var\n",
    "print(id(var)) # result of memories"
   ]
  },
  {
   "cell_type": "code",
   "execution_count": 5,
   "metadata": {},
   "outputs": [
    {
     "name": "stdout",
     "output_type": "stream",
     "text": [
      "<class 'bool'>\n",
      "<class 'bool'>\n"
     ]
    }
   ],
   "source": [
    "# this is example of boolean\n",
    "x = True\n",
    "print(type(x))\n",
    "\n",
    "x = False\n",
    "print(type(x))"
   ]
  },
  {
   "cell_type": "code",
   "execution_count": 6,
   "metadata": {},
   "outputs": [
    {
     "name": "stdout",
     "output_type": "stream",
     "text": [
      "<class 'str'>\n"
     ]
    }
   ],
   "source": [
    "# example of string\n",
    "x = 'nics projects'\n",
    "print(type(x))"
   ]
  },
  {
   "cell_type": "code",
   "execution_count": 8,
   "metadata": {},
   "outputs": [
    {
     "name": "stdout",
     "output_type": "stream",
     "text": [
      "hello !\n",
      "it's me, nics project\n",
      "nice to meet you \n"
     ]
    }
   ],
   "source": [
    "# you can use three single quate or double quate to save string in multi line\n",
    "multi_line = \"\"\"hello !\n",
    "it's me, nics project\n",
    "nice to meet you \"\"\"\n",
    "print(multi_line)"
   ]
  },
  {
   "cell_type": "code",
   "execution_count": 9,
   "metadata": {},
   "outputs": [
    {
     "name": "stdout",
     "output_type": "stream",
     "text": [
      "n\n"
     ]
    }
   ],
   "source": [
    "# you can access each character from string (substring) using indexing\n",
    "# here an example\n",
    "x = 'nics projects'\n",
    "print(x[0])"
   ]
  },
  {
   "cell_type": "code",
   "execution_count": 12,
   "metadata": {},
   "outputs": [
    {
     "ename": "TypeError",
     "evalue": "'str' object does not support item assignment",
     "output_type": "error",
     "traceback": [
      "\u001b[1;31m---------------------------------------------------------------------------\u001b[0m",
      "\u001b[1;31mTypeError\u001b[0m                                 Traceback (most recent call last)",
      "Cell \u001b[1;32mIn[12], line 3\u001b[0m\n\u001b[0;32m      1\u001b[0m \u001b[39m# but you can't change substring in it, because string is immutable\u001b[39;00m\n\u001b[0;32m      2\u001b[0m x \u001b[39m=\u001b[39m \u001b[39m'\u001b[39m\u001b[39mnics projects\u001b[39m\u001b[39m'\u001b[39m\n\u001b[1;32m----> 3\u001b[0m x[\u001b[39m0\u001b[39;49m] \u001b[39m=\u001b[39m \u001b[39m'\u001b[39m\u001b[39mL\u001b[39m\u001b[39m'\u001b[39m\n",
      "\u001b[1;31mTypeError\u001b[0m: 'str' object does not support item assignment"
     ]
    }
   ],
   "source": [
    "# but you can't change substring in it, because string is immutable\n",
    "# it will be show error\n",
    "x = 'nics projects'\n",
    "x[0] = 'L'"
   ]
  },
  {
   "cell_type": "code",
   "execution_count": 13,
   "metadata": {},
   "outputs": [
    {
     "name": "stdout",
     "output_type": "stream",
     "text": [
      "cs projects\n"
     ]
    }
   ],
   "source": [
    "# you can also access substring using indexing and slicing\n",
    "x = 'nics projects'\n",
    "print(x[2:])"
   ]
  },
  {
   "cell_type": "code",
   "execution_count": 2,
   "metadata": {},
   "outputs": [
    {
     "name": "stdout",
     "output_type": "stream",
     "text": [
      "hello, i am nics project\n"
     ]
    }
   ],
   "source": [
    "# this is example of formated string\n",
    "name = \"nics project\"\n",
    "print(f\"hello, i am {name}\")"
   ]
  },
  {
   "cell_type": "code",
   "execution_count": 14,
   "metadata": {},
   "outputs": [
    {
     "name": "stdout",
     "output_type": "stream",
     "text": [
      "my name nics projects\n"
     ]
    }
   ],
   "source": [
    "# this is example of %-formating\n",
    "name = 'nics projects'\n",
    "print(\"my name %s\"% (name))"
   ]
  },
  {
   "cell_type": "code",
   "execution_count": 15,
   "metadata": {},
   "outputs": [
    {
     "name": "stdout",
     "output_type": "stream",
     "text": [
      "my name nics projects\n"
     ]
    }
   ],
   "source": [
    "# this is example of str.format()\n",
    "name = 'nics projects'\n",
    "print(\"my name {}\".format(name))"
   ]
  },
  {
   "cell_type": "code",
   "execution_count": 16,
   "metadata": {},
   "outputs": [
    {
     "name": "stdout",
     "output_type": "stream",
     "text": [
      "<class 'list'>\n"
     ]
    }
   ],
   "source": [
    "# exmample of list\n",
    "x = [1, 2.2, 'nics projects']\n",
    "print(type(x))"
   ]
  },
  {
   "cell_type": "code",
   "execution_count": 17,
   "metadata": {},
   "outputs": [
    {
     "name": "stdout",
     "output_type": "stream",
     "text": [
      "True\n"
     ]
    }
   ],
   "source": [
    "# example of implement indexing in list\n",
    "x = [1, 'nics project', True, 1.0]\n",
    "print(x[2])"
   ]
  },
  {
   "cell_type": "code",
   "execution_count": 18,
   "metadata": {},
   "outputs": [
    {
     "name": "stdout",
     "output_type": "stream",
     "text": [
      "['mutable', 2.2, 'nics project']\n"
     ]
    }
   ],
   "source": [
    "# list in python is mutable\n",
    "x = [1,2.2, 'nics project']\n",
    "x[0] = 'mutable'\n",
    "print(x)"
   ]
  },
  {
   "cell_type": "code",
   "execution_count": 19,
   "metadata": {},
   "outputs": [
    {
     "name": "stdout",
     "output_type": "stream",
     "text": [
      "laptop\n",
      "mouse\n",
      "microphone\n",
      "keyboard\n"
     ]
    }
   ],
   "source": [
    "# another example of indexing in list\n",
    "x = [\"laptop\",\"monitor\",\"mouse\",\"mousepad\",\"keyboard\",\"webcam\",\"microphone\"]\n",
    "print(x[0])\n",
    "print(x[2])\n",
    "print(x[-1])\n",
    "print(x[-3])"
   ]
  },
  {
   "cell_type": "code",
   "execution_count": 20,
   "metadata": {},
   "outputs": [
    {
     "name": "stdout",
     "output_type": "stream",
     "text": [
      "['laptop', 'mouse', 'keyboard']\n",
      "['monitor', 'mouse', 'mousepad', 'keyboard', 'webcam', 'microphone']\n",
      "['laptop', 'monitor', 'mouse']\n"
     ]
    }
   ],
   "source": [
    "# another example of slicing in list\n",
    "x = [\"laptop\",\"monitor\",\"mouse\",\"mousepad\",\"keyboard\",\"webcam\",\"microphone\"]\n",
    "print(x[0:5:2])\n",
    "print(x[1:])\n",
    "print(x[:3])"
   ]
  },
  {
   "cell_type": "code",
   "execution_count": 21,
   "metadata": {},
   "outputs": [
    {
     "name": "stdout",
     "output_type": "stream",
     "text": [
      "<class 'tuple'>\n"
     ]
    }
   ],
   "source": [
    "# this is tuple in list\n",
    "x = (1, \"nics projects\",1+3j)\n",
    "print(type(x))"
   ]
  },
  {
   "cell_type": "code",
   "execution_count": 22,
   "metadata": {},
   "outputs": [
    {
     "name": "stdout",
     "output_type": "stream",
     "text": [
      "program\n",
      "(5, 'program', (1+3j))\n"
     ]
    }
   ],
   "source": [
    "# another example of tuple in list\n",
    "x = (5, \"program\",1+3j)\n",
    "print(x[1])\n",
    "print(x[0:3])"
   ]
  },
  {
   "cell_type": "code",
   "execution_count": 23,
   "metadata": {},
   "outputs": [
    {
     "ename": "TypeError",
     "evalue": "'tuple' object does not support item assignment",
     "output_type": "error",
     "traceback": [
      "\u001b[1;31m---------------------------------------------------------------------------\u001b[0m",
      "\u001b[1;31mTypeError\u001b[0m                                 Traceback (most recent call last)",
      "Cell \u001b[1;32mIn[23], line 3\u001b[0m\n\u001b[0;32m      1\u001b[0m \u001b[39m# tuple is immutable, this is an example\u001b[39;00m\n\u001b[0;32m      2\u001b[0m x \u001b[39m=\u001b[39m (\u001b[39m5\u001b[39m, \u001b[39m\"\u001b[39m\u001b[39mprogram\u001b[39m\u001b[39m\"\u001b[39m,\u001b[39m1\u001b[39m\u001b[39m+\u001b[39m\u001b[39m3\u001b[39mj)\n\u001b[1;32m----> 3\u001b[0m x[\u001b[39m1\u001b[39;49m] \u001b[39m=\u001b[39m \u001b[39m\"\u001b[39m\u001b[39mnics projects\u001b[39m\u001b[39m\"\u001b[39m\n",
      "\u001b[1;31mTypeError\u001b[0m: 'tuple' object does not support item assignment"
     ]
    }
   ],
   "source": [
    "# tuple is immutable, this is an example\n",
    "# it will show error\n",
    "x = (5, \"program\",1+3j)\n",
    "x[1] = \"nics projects\""
   ]
  },
  {
   "cell_type": "code",
   "execution_count": 3,
   "metadata": {},
   "outputs": [
    {
     "ename": "TypeError",
     "evalue": "'set' object is not subscriptable",
     "output_type": "error",
     "traceback": [
      "\u001b[1;31m---------------------------------------------------------------------------\u001b[0m",
      "\u001b[1;31mTypeError\u001b[0m                                 Traceback (most recent call last)",
      "Cell \u001b[1;32mIn[3], line 3\u001b[0m\n\u001b[0;32m      1\u001b[0m \u001b[39m# this is set, in python list, we can't use indexing in set\u001b[39;00m\n\u001b[0;32m      2\u001b[0m x \u001b[39m=\u001b[39m {\u001b[39m1\u001b[39m,\u001b[39m2\u001b[39m,\u001b[39m3\u001b[39m,\u001b[39m4\u001b[39m,\u001b[39m5\u001b[39m,\u001b[39m6\u001b[39m,\u001b[39m7\u001b[39m,\u001b[39m8\u001b[39m}\n\u001b[1;32m----> 3\u001b[0m \u001b[39mprint\u001b[39m(x[\u001b[39m0\u001b[39;49m])\n",
      "\u001b[1;31mTypeError\u001b[0m: 'set' object is not subscriptable"
     ]
    }
   ],
   "source": [
    "# this is 'set', in python list, you can't use indexing in set\n",
    "# it will show error\n",
    "x = {1,2,3,4,5,6,7,8}\n",
    "print(x[0])"
   ]
  },
  {
   "cell_type": "code",
   "execution_count": 4,
   "metadata": {},
   "outputs": [
    {
     "name": "stdout",
     "output_type": "stream",
     "text": [
      "{1, 2, 3, 7, 13}\n",
      "<class 'set'>\n"
     ]
    }
   ],
   "source": [
    "# you can use this 'set' to remove duplicate data\n",
    "x = {1,2,7,2,3,13,3}\n",
    "print(x)\n",
    "print(type(x))"
   ]
  },
  {
   "cell_type": "code",
   "execution_count": 5,
   "metadata": {},
   "outputs": [
    {
     "name": "stdout",
     "output_type": "stream",
     "text": [
      "Union : {1, 2, 3, 4, 5, 6, 7, 8}\n",
      "Intersection : {4, 5}\n"
     ]
    }
   ],
   "source": [
    "# intersection in pyhon, you can use it to merge two variables data type set using union\n",
    "set1 = {1,2,3,4,5}\n",
    "set2 = {4,5,6,7,8}\n",
    "union = set1.union(set2)\n",
    "print(\"Union :\",union)\n",
    "\n",
    "# you can use intersection to find same value\n",
    "intersection = set1.intersection(set2)\n",
    "print(\"Intersection :\",intersection)"
   ]
  },
  {
   "cell_type": "code",
   "execution_count": 6,
   "metadata": {},
   "outputs": [
    {
     "name": "stdout",
     "output_type": "stream",
     "text": [
      "<class 'dict'>\n"
     ]
    }
   ],
   "source": [
    "# dictionary in python, it's consist of couple key-value\n",
    "x = {'name':'nics projects','age':24,'isMarried':False}\n",
    "print(type(x))"
   ]
  },
  {
   "cell_type": "code",
   "execution_count": 8,
   "metadata": {},
   "outputs": [
    {
     "ename": "KeyError",
     "evalue": "0",
     "output_type": "error",
     "traceback": [
      "\u001b[1;31m---------------------------------------------------------------------------\u001b[0m",
      "\u001b[1;31mKeyError\u001b[0m                                  Traceback (most recent call last)",
      "Cell \u001b[1;32mIn[8], line 3\u001b[0m\n\u001b[0;32m      1\u001b[0m \u001b[39m# you can't use indexing in dictionary, you have to know the key to get value\u001b[39;00m\n\u001b[0;32m      2\u001b[0m x \u001b[39m=\u001b[39m {\u001b[39m'\u001b[39m\u001b[39mname\u001b[39m\u001b[39m'\u001b[39m:\u001b[39m'\u001b[39m\u001b[39mnics projects\u001b[39m\u001b[39m'\u001b[39m,\u001b[39m'\u001b[39m\u001b[39mage\u001b[39m\u001b[39m'\u001b[39m:\u001b[39m24\u001b[39m,\u001b[39m'\u001b[39m\u001b[39misMarried\u001b[39m\u001b[39m'\u001b[39m:\u001b[39mFalse\u001b[39;00m}\n\u001b[1;32m----> 3\u001b[0m \u001b[39mprint\u001b[39m(x[\u001b[39m0\u001b[39;49m])\n",
      "\u001b[1;31mKeyError\u001b[0m: 0"
     ]
    }
   ],
   "source": [
    "# you can't use indexing in dictionary, you have to know the key to get value\n",
    "# this is the wrong way\n",
    "x = {'name':'nics projects','age':24,'isMarried':False}\n",
    "print(x[0])"
   ]
  },
  {
   "cell_type": "code",
   "execution_count": 10,
   "metadata": {},
   "outputs": [
    {
     "name": "stdout",
     "output_type": "stream",
     "text": [
      "nics projects\n"
     ]
    }
   ],
   "source": [
    "# this is the right way\n",
    "print(x['name'])"
   ]
  },
  {
   "cell_type": "code",
   "execution_count": 12,
   "metadata": {},
   "outputs": [
    {
     "name": "stdout",
     "output_type": "stream",
     "text": [
      "{'name': 'nics projects', 'age': 20, 'isMarried': False, 'Job': 'Web Developer'}\n"
     ]
    }
   ],
   "source": [
    "# you can add a data in dictionary\n",
    "x = { 'name': 'nics projects', 'age': 20, 'isMarried': False }\n",
    "x ['Job'] = \"Web Developer\"\n",
    "\n",
    "print(x)"
   ]
  },
  {
   "cell_type": "code",
   "execution_count": 15,
   "metadata": {},
   "outputs": [
    {
     "name": "stdout",
     "output_type": "stream",
     "text": [
      "{'name': 'nics projects', 'age': 20}\n"
     ]
    }
   ],
   "source": [
    "# you can delete a data in dictionary\n",
    "x = { 'name': 'nics projects', 'age': 20, 'isMarried': False }\n",
    "del x['isMarried']\n",
    "\n",
    "print(x)"
   ]
  },
  {
   "cell_type": "code",
   "execution_count": 18,
   "metadata": {},
   "outputs": [
    {
     "name": "stdout",
     "output_type": "stream",
     "text": [
      "{'name': 'nico lahara', 'age': 20, 'isMarried': False}\n"
     ]
    }
   ],
   "source": [
    "# you can edit a data in dictionary\n",
    "x = { 'name': 'nics projects', 'age': 20, 'isMarried': False }\n",
    "x ['name'] = \"nico lahara\"\n",
    "\n",
    "print(x)"
   ]
  },
  {
   "cell_type": "code",
   "execution_count": 20,
   "metadata": {},
   "outputs": [
    {
     "name": "stdout",
     "output_type": "stream",
     "text": [
      "5.0\n"
     ]
    }
   ],
   "source": [
    "# convert integer to float\n",
    "print(float(5))"
   ]
  },
  {
   "cell_type": "code",
   "execution_count": 22,
   "metadata": {},
   "outputs": [
    {
     "name": "stdout",
     "output_type": "stream",
     "text": [
      "5\n",
      "-5\n"
     ]
    }
   ],
   "source": [
    "# convert float to integer\n",
    "print(int(5.6))\n",
    "print(int(-5.6))"
   ]
  },
  {
   "cell_type": "code",
   "execution_count": 23,
   "metadata": {},
   "outputs": [
    {
     "name": "stdout",
     "output_type": "stream",
     "text": [
      "25\n",
      "25\n",
      "25.0\n",
      "25.6\n"
     ]
    }
   ],
   "source": [
    "# convert from string to other an vice versa\n",
    "print(int(\"25\"))\n",
    "print(str(25))\n",
    "print(float(\"25\"))\n",
    "print(str(25.6))"
   ]
  },
  {
   "cell_type": "code",
   "execution_count": 25,
   "metadata": {},
   "outputs": [
    {
     "ename": "ValueError",
     "evalue": "invalid literal for int() with base 10: '1p'",
     "output_type": "error",
     "traceback": [
      "\u001b[1;31m---------------------------------------------------------------------------\u001b[0m",
      "\u001b[1;31mValueError\u001b[0m                                Traceback (most recent call last)",
      "Cell \u001b[1;32mIn[25], line 2\u001b[0m\n\u001b[0;32m      1\u001b[0m \u001b[39m# it show error if you convert the wrong value from string to other data type\u001b[39;00m\n\u001b[1;32m----> 2\u001b[0m \u001b[39mprint\u001b[39m(\u001b[39mint\u001b[39;49m(\u001b[39m\"\u001b[39;49m\u001b[39m1p\u001b[39;49m\u001b[39m\"\u001b[39;49m))\n",
      "\u001b[1;31mValueError\u001b[0m: invalid literal for int() with base 10: '1p'"
     ]
    }
   ],
   "source": [
    "# it show error if you convert the wrong value from string to other data type\n",
    "print(int(\"1p\"))"
   ]
  },
  {
   "cell_type": "code",
   "execution_count": 27,
   "metadata": {},
   "outputs": [
    {
     "name": "stdout",
     "output_type": "stream",
     "text": [
      "{1, 2, 3}\n",
      "(5, 6, 7)\n",
      "['h', 'e', 'l', 'l', 'o']\n"
     ]
    }
   ],
   "source": [
    "# convert data set\n",
    "print(set([1,2,3]))\n",
    "print(tuple({5,6,7}))\n",
    "print(list('hello'))"
   ]
  },
  {
   "cell_type": "code",
   "execution_count": 29,
   "metadata": {},
   "outputs": [
    {
     "name": "stdout",
     "output_type": "stream",
     "text": [
      "{1: 2, 3: 4}\n"
     ]
    }
   ],
   "source": [
    "# convert to dictionary\n",
    "print(dict([[1,2],[3,4]]))"
   ]
  },
  {
   "cell_type": "code",
   "execution_count": 30,
   "metadata": {},
   "outputs": [
    {
     "name": "stdout",
     "output_type": "stream",
     "text": [
      "{3: 26, 4: 44}\n"
     ]
    }
   ],
   "source": [
    "# convert from some tuple to dicionary\n",
    "print(dict([(3,26),(4,44)]))"
   ]
  }
 ],
 "metadata": {
  "kernelspec": {
   "display_name": "Python 3",
   "language": "python",
   "name": "python3"
  },
  "language_info": {
   "codemirror_mode": {
    "name": "ipython",
    "version": 3
   },
   "file_extension": ".py",
   "mimetype": "text/x-python",
   "name": "python",
   "nbconvert_exporter": "python",
   "pygments_lexer": "ipython3",
   "version": "3.11.2"
  },
  "orig_nbformat": 4
 },
 "nbformat": 4,
 "nbformat_minor": 2
}
