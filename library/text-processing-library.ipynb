{
 "cells": [
  {
   "cell_type": "code",
   "execution_count": 1,
   "metadata": {},
   "outputs": [
    {
     "name": "stdout",
     "output_type": "stream",
     "text": [
      "Pencarian berhasil.\n"
     ]
    }
   ],
   "source": [
    "import re     # Import modul regex\n",
    " \n",
    "pola= '^a...s$'\n",
    "string_tes= 'abyss'\n",
    "hasil= re.match(pola, string_tes)\n",
    " \n",
    "if hasil:\n",
    "    print(\"Pencarian berhasil.\")\n",
    "else:\n",
    "    print(\"Pencarian gagal.\") "
   ]
  }
 ],
 "metadata": {
  "kernelspec": {
   "display_name": "Python 3",
   "language": "python",
   "name": "python3"
  },
  "language_info": {
   "codemirror_mode": {
    "name": "ipython",
    "version": 3
   },
   "file_extension": ".py",
   "mimetype": "text/x-python",
   "name": "python",
   "nbconvert_exporter": "python",
   "pygments_lexer": "ipython3",
   "version": "3.11.2"
  },
  "orig_nbformat": 4
 },
 "nbformat": 4,
 "nbformat_minor": 2
}
