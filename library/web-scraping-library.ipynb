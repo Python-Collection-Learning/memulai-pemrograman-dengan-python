{
 "cells": [
  {
   "cell_type": "code",
   "execution_count": null,
   "metadata": {},
   "outputs": [],
   "source": [
    "# using Beautifulsoup\n",
    "from urllib.request import urlopen\n",
    "from bs4 import BeautifulSoup\n",
    " \n",
    "# Pengambilan konten\n",
    "url = \"http://python.org/\"\n",
    "page = urlopen(url)\n",
    "html = page.read().decode(\"utf-8\")\n",
    " \n",
    "# Membuat objek BeautifulSoup\n",
    "soup = BeautifulSoup(html, \"html.parser\")\n",
    " \n",
    "# Mencetak judul halaman\n",
    "print(soup.title)"
   ]
  },
  {
   "cell_type": "code",
   "execution_count": null,
   "metadata": {},
   "outputs": [],
   "source": [
    "# using urllib\n",
    "from urllib.request import urlopen\n",
    " \n",
    "# Pengambilan konten\n",
    "url = \"http://python.org/\"\n",
    "page = urlopen(url)\n",
    "html = page.read().decode(\"utf-8\")\n",
    " \n",
    "# Mencari indeks awal dan akhir\n",
    "start_index = html.find(\"<title>\") + len(\"<title>\")\n",
    "end_index = html.find(\"</title>\")\n",
    " \n",
    "# Mengekstrak dan mencetak judul halaman\n",
    "title = html[start_index:end_index]\n",
    "title"
   ]
  }
 ],
 "metadata": {
  "language_info": {
   "name": "python"
  },
  "orig_nbformat": 4
 },
 "nbformat": 4,
 "nbformat_minor": 2
}
